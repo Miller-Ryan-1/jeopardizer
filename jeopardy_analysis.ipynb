{
 "cells": [
  {
   "cell_type": "code",
   "execution_count": 1,
   "id": "c5adcda9",
   "metadata": {},
   "outputs": [
    {
     "name": "stderr",
     "output_type": "stream",
     "text": [
      "/opt/homebrew/anaconda3/lib/python3.9/site-packages/scipy/__init__.py:146: UserWarning: A NumPy version >=1.16.5 and <1.23.0 is required for this version of SciPy (detected version 1.23.0\n",
      "  warnings.warn(f\"A NumPy version >={np_minversion} and <{np_maxversion}\"\n"
     ]
    }
   ],
   "source": [
    "# Import standard DS libraries\n",
    "import pandas as pd\n",
    "import numpy as np\n",
    "import re\n",
    "\n",
    "# Import plotting libraries\n",
    "import seaborn as sns\n",
    "import matplotlib.pyplot as plt\n",
    "\n",
    "pd.set_option('display.max_colwidth', None)"
   ]
  },
  {
   "cell_type": "markdown",
   "id": "5f45a712",
   "metadata": {},
   "source": [
    "##### Note: At some point the values doubled, this dataset has automagically updated all values to 2022 (where max value in double jeopardy is $2000)"
   ]
  },
  {
   "cell_type": "code",
   "execution_count": 2,
   "id": "d805a2dd",
   "metadata": {},
   "outputs": [],
   "source": [
    "# Read csv - note the index_col = 0 and dropping cols\n",
    "df = pd.read_csv('master_question_list.csv', index_col = 0).drop(columns = 'index')"
   ]
  },
  {
   "cell_type": "code",
   "execution_count": 3,
   "id": "8aa0a4bb",
   "metadata": {},
   "outputs": [],
   "source": [
    "# Important - REplace NaN answers that are literally 'Null' with the word\n",
    "df = df.fillna(f'Null')"
   ]
  },
  {
   "cell_type": "code",
   "execution_count": 4,
   "id": "c314fb45",
   "metadata": {},
   "outputs": [
    {
     "name": "stdout",
     "output_type": "stream",
     "text": [
      "<class 'pandas.core.frame.DataFrame'>\n",
      "Int64Index: 285181 entries, 0 to 285180\n",
      "Data columns (total 11 columns):\n",
      " #   Column      Non-Null Count   Dtype \n",
      "---  ------      --------------   ----- \n",
      " 0   show_num    285181 non-null  int64 \n",
      " 1   show_yr     285181 non-null  int64 \n",
      " 2   show_mo     285181 non-null  object\n",
      " 3   round       285181 non-null  object\n",
      " 4   category    285181 non-null  object\n",
      " 5   value       285181 non-null  object\n",
      " 6   clue        285181 non-null  object\n",
      " 7   is_DD       285181 non-null  int64 \n",
      " 8   answer      285181 non-null  object\n",
      " 9   is_stumper  285181 non-null  int64 \n",
      " 10  level       285181 non-null  int64 \n",
      "dtypes: int64(5), object(6)\n",
      "memory usage: 26.1+ MB\n"
     ]
    },
    {
     "data": {
      "text/html": [
       "<div>\n",
       "<style scoped>\n",
       "    .dataframe tbody tr th:only-of-type {\n",
       "        vertical-align: middle;\n",
       "    }\n",
       "\n",
       "    .dataframe tbody tr th {\n",
       "        vertical-align: top;\n",
       "    }\n",
       "\n",
       "    .dataframe thead th {\n",
       "        text-align: right;\n",
       "    }\n",
       "</style>\n",
       "<table border=\"1\" class=\"dataframe\">\n",
       "  <thead>\n",
       "    <tr style=\"text-align: right;\">\n",
       "      <th></th>\n",
       "      <th>show_num</th>\n",
       "      <th>show_yr</th>\n",
       "      <th>show_mo</th>\n",
       "      <th>round</th>\n",
       "      <th>category</th>\n",
       "      <th>value</th>\n",
       "      <th>clue</th>\n",
       "      <th>is_DD</th>\n",
       "      <th>answer</th>\n",
       "      <th>is_stumper</th>\n",
       "      <th>level</th>\n",
       "    </tr>\n",
       "  </thead>\n",
       "  <tbody>\n",
       "    <tr>\n",
       "      <th>142512</th>\n",
       "      <td>6286</td>\n",
       "      <td>2012</td>\n",
       "      <td>January</td>\n",
       "      <td>Jeopardy</td>\n",
       "      <td>THE FOOD CHAIN</td>\n",
       "      <td>400</td>\n",
       "      <td>This company's first Supercenter opened in 1988 &amp; included a grocery &amp; 36 departments of general merchandise</td>\n",
       "      <td>0</td>\n",
       "      <td>Walmart</td>\n",
       "      <td>0</td>\n",
       "      <td>1</td>\n",
       "    </tr>\n",
       "    <tr>\n",
       "      <th>64548</th>\n",
       "      <td>4985</td>\n",
       "      <td>2006</td>\n",
       "      <td>April</td>\n",
       "      <td>Double Jeopardy</td>\n",
       "      <td>\"DON'T\" YOU KNOW THIS SONG?</td>\n",
       "      <td>1200</td>\n",
       "      <td>No doubt you know this \"Tragic Kingdom\" tune was No. 1 for 16 weeks on the airplay chart in 1996 &amp; '97</td>\n",
       "      <td>0</td>\n",
       "      <td>\"Don\\'t Speak\"</td>\n",
       "      <td>0</td>\n",
       "      <td>2</td>\n",
       "    </tr>\n",
       "    <tr>\n",
       "      <th>71644</th>\n",
       "      <td>5104</td>\n",
       "      <td>2006</td>\n",
       "      <td>November</td>\n",
       "      <td>Jeopardy</td>\n",
       "      <td>THE ILIAD, MACBETH OR THE HOBBIT</td>\n",
       "      <td>800</td>\n",
       "      <td>After Smaug is killed, the \"Battle of Five Armies\" ensues</td>\n",
       "      <td>0</td>\n",
       "      <td>The Hobbit</td>\n",
       "      <td>0</td>\n",
       "      <td>2</td>\n",
       "    </tr>\n",
       "    <tr>\n",
       "      <th>17204</th>\n",
       "      <td>4194</td>\n",
       "      <td>2002</td>\n",
       "      <td>November</td>\n",
       "      <td>Jeopardy</td>\n",
       "      <td>ORIGINAL CRAYOLA COLORS</td>\n",
       "      <td>600</td>\n",
       "      <td>Color for the belly of your sapsucker or a caution card in soccer</td>\n",
       "      <td>0</td>\n",
       "      <td>yellow</td>\n",
       "      <td>0</td>\n",
       "      <td>2</td>\n",
       "    </tr>\n",
       "    <tr>\n",
       "      <th>218125</th>\n",
       "      <td>7564</td>\n",
       "      <td>2017</td>\n",
       "      <td>June</td>\n",
       "      <td>Jeopardy</td>\n",
       "      <td>SPORTS</td>\n",
       "      <td>1000</td>\n",
       "      <td>Fernando Valenzuela threw this reverse curve with a zany name</td>\n",
       "      <td>0</td>\n",
       "      <td>a screwball</td>\n",
       "      <td>0</td>\n",
       "      <td>3</td>\n",
       "    </tr>\n",
       "  </tbody>\n",
       "</table>\n",
       "</div>"
      ],
      "text/plain": [
       "        show_num  show_yr   show_mo            round  \\\n",
       "142512      6286     2012   January         Jeopardy   \n",
       "64548       4985     2006     April  Double Jeopardy   \n",
       "71644       5104     2006  November         Jeopardy   \n",
       "17204       4194     2002  November         Jeopardy   \n",
       "218125      7564     2017      June         Jeopardy   \n",
       "\n",
       "                                category value  \\\n",
       "142512                    THE FOOD CHAIN   400   \n",
       "64548        \"DON'T\" YOU KNOW THIS SONG?  1200   \n",
       "71644   THE ILIAD, MACBETH OR THE HOBBIT   800   \n",
       "17204            ORIGINAL CRAYOLA COLORS   600   \n",
       "218125                            SPORTS  1000   \n",
       "\n",
       "                                                                                                                clue  \\\n",
       "142512  This company's first Supercenter opened in 1988 & included a grocery & 36 departments of general merchandise   \n",
       "64548         No doubt you know this \"Tragic Kingdom\" tune was No. 1 for 16 weeks on the airplay chart in 1996 & '97   \n",
       "71644                                                      After Smaug is killed, the \"Battle of Five Armies\" ensues   \n",
       "17204                                              Color for the belly of your sapsucker or a caution card in soccer   \n",
       "218125                                                 Fernando Valenzuela threw this reverse curve with a zany name   \n",
       "\n",
       "        is_DD          answer  is_stumper  level  \n",
       "142512      0         Walmart           0      1  \n",
       "64548       0  \"Don\\'t Speak\"           0      2  \n",
       "71644       0      The Hobbit           0      2  \n",
       "17204       0          yellow           0      2  \n",
       "218125      0     a screwball           0      3  "
      ]
     },
     "execution_count": 4,
     "metadata": {},
     "output_type": "execute_result"
    }
   ],
   "source": [
    "df.info()\n",
    "df.sample(5)"
   ]
  },
  {
   "cell_type": "markdown",
   "id": "06cbdf89",
   "metadata": {},
   "source": [
    "### Check Daily Double vs Value Frequency"
   ]
  },
  {
   "cell_type": "code",
   "execution_count": 5,
   "id": "e4229923",
   "metadata": {},
   "outputs": [],
   "source": [
    "# Create dataframe of daiyl doubles only\n",
    "dd = df[df.is_DD == True]"
   ]
  },
  {
   "cell_type": "code",
   "execution_count": 6,
   "id": "d3f90cf5",
   "metadata": {},
   "outputs": [],
   "source": [
    "dd_j = dd[dd['round'] == 'Jeopardy']\n",
    "dd_dj = dd[dd['round'] == 'Double Jeopardy']"
   ]
  },
  {
   "cell_type": "code",
   "execution_count": 7,
   "id": "ce5a6441",
   "metadata": {},
   "outputs": [
    {
     "data": {
      "image/png": "[encoded data removed]",
      "text/plain": [
       "<Figure size 576x864 with 2 Axes>"
      ]
     },
     "metadata": {
      "needs_background": "light"
     },
     "output_type": "display_data"
    }
   ],
   "source": [
    "plt.figure(figsize = (8,12))\n",
    "plt.subplot(211)\n",
    "sns.histplot(dd_j.value)\n",
    "plt.xlabel('Jeopardy Round Value')\n",
    "plt.subplot(212)\n",
    "sns.histplot(dd_dj.value)\n",
    "plt.xlabel('Double Jeopardy Round Value')\n",
    "plt.show()"
   ]
  },
  {
   "cell_type": "markdown",
   "id": "6737ea0a",
   "metadata": {},
   "source": [
    "By percentage:"
   ]
  },
  {
   "cell_type": "code",
   "execution_count": 8,
   "id": "9023a6cd",
   "metadata": {},
   "outputs": [
    {
     "data": {
      "text/plain": [
       "800     0.358137\n",
       "1000    0.288786\n",
       "600     0.265809\n",
       "400     0.086636\n",
       "200     0.000632\n",
       "Name: value, dtype: float64"
      ]
     },
     "execution_count": 8,
     "metadata": {},
     "output_type": "execute_result"
    }
   ],
   "source": [
    "dd_j.value.value_counts(normalize = True)"
   ]
  },
  {
   "cell_type": "code",
   "execution_count": 9,
   "id": "a9f6ad11",
   "metadata": {},
   "outputs": [
    {
     "data": {
      "text/plain": [
       "1600    0.372233\n",
       "1200    0.294822\n",
       "2000    0.211479\n",
       "800     0.120195\n",
       "400     0.001271\n",
       "Name: value, dtype: float64"
      ]
     },
     "execution_count": 9,
     "metadata": {},
     "output_type": "execute_result"
    }
   ],
   "source": [
    "dd_dj.value.value_counts(normalize = True)"
   ]
  },
  {
   "cell_type": "markdown",
   "id": "782dca40",
   "metadata": {},
   "source": [
    "### What percentage of answers have been repeated?"
   ]
  },
  {
   "cell_type": "code",
   "execution_count": 13,
   "id": "e3572a6e",
   "metadata": {},
   "outputs": [],
   "source": [
    "# Note - since many answers are repeated multiple times, must use\n",
    "# duplicated and not nunique, which will undercount.\n",
    "repeats = df[df.answer.duplicated(keep=False)].shape[0]"
   ]
  },
  {
   "cell_type": "code",
   "execution_count": 19,
   "id": "904d37d0",
   "metadata": {},
   "outputs": [
    {
     "data": {
      "text/plain": [
       "'78.2%'"
      ]
     },
     "execution_count": 19,
     "metadata": {},
     "output_type": "execute_result"
    }
   ],
   "source": [
    "f'{round(repeats/df.answer.shape[0],3)*100}%'"
   ]
  },
  {
   "cell_type": "code",
   "execution_count": 20,
   "id": "e9b70270",
   "metadata": {},
   "outputs": [
    {
     "data": {
      "text/plain": [
       "Chicago       259\n",
       "Australia     234\n",
       "China         223\n",
       "India         205\n",
       "California    202\n",
       "Canada        193\n",
       "France        188\n",
       "Japan         187\n",
       "Florida       179\n",
       "Alaska        174\n",
       "Name: answer, dtype: int64"
      ]
     },
     "execution_count": 20,
     "metadata": {},
     "output_type": "execute_result"
    }
   ],
   "source": [
    "df.answer.value_counts().nlargest(10)"
   ]
  },
  {
   "cell_type": "markdown",
   "id": "6879f8e3",
   "metadata": {},
   "source": [
    "### What about questions?"
   ]
  },
  {
   "cell_type": "code",
   "execution_count": 21,
   "id": "c0ce2654",
   "metadata": {},
   "outputs": [],
   "source": [
    "clue_repeats = df[df.clue.duplicated(keep=False)].shape[0]"
   ]
  },
  {
   "cell_type": "code",
   "execution_count": 22,
   "id": "fdd3a4dd",
   "metadata": {},
   "outputs": [
    {
     "data": {
      "text/plain": [
       "'0.5%'"
      ]
     },
     "execution_count": 22,
     "metadata": {},
     "output_type": "execute_result"
    }
   ],
   "source": [
    "f'{round(clue_repeats/df.clue.shape[0],3)*100}%'"
   ]
  },
  {
   "cell_type": "code",
   "execution_count": 23,
   "id": "79202c58",
   "metadata": {},
   "outputs": [
    {
     "data": {
      "text/plain": [
       "\"I Hope I Get It\"                                                                                                       5\n",
       "[State outline]                                                                                                         5\n",
       "[video clue]                                                                                                            5\n",
       "Mount Kilimanjaro                                                                                                       4\n",
       "Hubert Humphrey                                                                                                         4\n",
       "                                                                                                                       ..\n",
       "A coach for this Tallahassee-based college football team directed, \"You guys line up alphabetically by height\"          2\n",
       "A light, good-hearted satire, or a \"National\" magazine that does satire                                                 2\n",
       "He had a 1994 hit with \"Streets of Philadelphia\", from a Tom Hanks film                                                 2\n",
       "Alexander Woollcott said everything he likes to do is these 2 things, or fattening                                      2\n",
       "Identifying this nation seen here that became independent in 1991 should suit you to a \"T\"--don't pick the wrong one    2\n",
       "Name: clue, Length: 751, dtype: int64"
      ]
     },
     "execution_count": 23,
     "metadata": {},
     "output_type": "execute_result"
    }
   ],
   "source": [
    "df[df.clue.duplicated(keep=False)].clue.value_counts()"
   ]
  },
  {
   "cell_type": "code",
   "execution_count": 24,
   "id": "160ae68b",
   "metadata": {},
   "outputs": [
    {
     "data": {
      "text/html": [
       "<div>\n",
       "<style scoped>\n",
       "    .dataframe tbody tr th:only-of-type {\n",
       "        vertical-align: middle;\n",
       "    }\n",
       "\n",
       "    .dataframe tbody tr th {\n",
       "        vertical-align: top;\n",
       "    }\n",
       "\n",
       "    .dataframe thead th {\n",
       "        text-align: right;\n",
       "    }\n",
       "</style>\n",
       "<table border=\"1\" class=\"dataframe\">\n",
       "  <thead>\n",
       "    <tr style=\"text-align: right;\">\n",
       "      <th></th>\n",
       "      <th>show_num</th>\n",
       "      <th>show_yr</th>\n",
       "      <th>show_mo</th>\n",
       "      <th>round</th>\n",
       "      <th>category</th>\n",
       "      <th>value</th>\n",
       "      <th>clue</th>\n",
       "      <th>is_DD</th>\n",
       "      <th>answer</th>\n",
       "      <th>is_stumper</th>\n",
       "      <th>level</th>\n",
       "    </tr>\n",
       "  </thead>\n",
       "  <tbody>\n",
       "    <tr>\n",
       "      <th>13725</th>\n",
       "      <td>4136</td>\n",
       "      <td>2002</td>\n",
       "      <td>September</td>\n",
       "      <td>Double Jeopardy</td>\n",
       "      <td>SONGS FROM MUSICALS</td>\n",
       "      <td>2000</td>\n",
       "      <td>\"I Hope I Get It\"</td>\n",
       "      <td>0</td>\n",
       "      <td>A Chorus Line</td>\n",
       "      <td>0</td>\n",
       "      <td>3</td>\n",
       "    </tr>\n",
       "    <tr>\n",
       "      <th>91488</th>\n",
       "      <td>5434</td>\n",
       "      <td>2008</td>\n",
       "      <td>April</td>\n",
       "      <td>Jeopardy</td>\n",
       "      <td>OPENING NUMBERS OF MUSICALS</td>\n",
       "      <td>400</td>\n",
       "      <td>\"I Hope I Get It\"</td>\n",
       "      <td>0</td>\n",
       "      <td>A Chorus Line</td>\n",
       "      <td>0</td>\n",
       "      <td>1</td>\n",
       "    </tr>\n",
       "    <tr>\n",
       "      <th>134648</th>\n",
       "      <td>6155</td>\n",
       "      <td>2011</td>\n",
       "      <td>May</td>\n",
       "      <td>Jeopardy</td>\n",
       "      <td>MUSICALS' OPENING NUMBERS</td>\n",
       "      <td>800</td>\n",
       "      <td>\"I Hope I Get It\"</td>\n",
       "      <td>0</td>\n",
       "      <td>A Chorus Line</td>\n",
       "      <td>0</td>\n",
       "      <td>2</td>\n",
       "    </tr>\n",
       "    <tr>\n",
       "      <th>221778</th>\n",
       "      <td>7625</td>\n",
       "      <td>2017</td>\n",
       "      <td>November</td>\n",
       "      <td>Jeopardy</td>\n",
       "      <td>MUSICALS' OPENING NUMBERS</td>\n",
       "      <td>800</td>\n",
       "      <td>\"I Hope I Get It\"</td>\n",
       "      <td>0</td>\n",
       "      <td>A Chorus Line</td>\n",
       "      <td>0</td>\n",
       "      <td>2</td>\n",
       "    </tr>\n",
       "    <tr>\n",
       "      <th>269693</th>\n",
       "      <td>8440</td>\n",
       "      <td>2021</td>\n",
       "      <td>July</td>\n",
       "      <td>Double Jeopardy</td>\n",
       "      <td>BROADWAY MUSICALS BY OPENING NUMBERS</td>\n",
       "      <td>1200</td>\n",
       "      <td>\"I Hope I Get It\"</td>\n",
       "      <td>0</td>\n",
       "      <td>A Chorus Line</td>\n",
       "      <td>0</td>\n",
       "      <td>2</td>\n",
       "    </tr>\n",
       "  </tbody>\n",
       "</table>\n",
       "</div>"
      ],
      "text/plain": [
       "        show_num  show_yr    show_mo            round  \\\n",
       "13725       4136     2002  September  Double Jeopardy   \n",
       "91488       5434     2008      April         Jeopardy   \n",
       "134648      6155     2011        May         Jeopardy   \n",
       "221778      7625     2017   November         Jeopardy   \n",
       "269693      8440     2021       July  Double Jeopardy   \n",
       "\n",
       "                                    category value               clue  is_DD  \\\n",
       "13725                    SONGS FROM MUSICALS  2000  \"I Hope I Get It\"      0   \n",
       "91488            OPENING NUMBERS OF MUSICALS   400  \"I Hope I Get It\"      0   \n",
       "134648             MUSICALS' OPENING NUMBERS   800  \"I Hope I Get It\"      0   \n",
       "221778             MUSICALS' OPENING NUMBERS   800  \"I Hope I Get It\"      0   \n",
       "269693  BROADWAY MUSICALS BY OPENING NUMBERS  1200  \"I Hope I Get It\"      0   \n",
       "\n",
       "               answer  is_stumper  level  \n",
       "13725   A Chorus Line           0      3  \n",
       "91488   A Chorus Line           0      1  \n",
       "134648  A Chorus Line           0      2  \n",
       "221778  A Chorus Line           0      2  \n",
       "269693  A Chorus Line           0      2  "
      ]
     },
     "execution_count": 24,
     "metadata": {},
     "output_type": "execute_result"
    }
   ],
   "source": [
    "df[df.clue == '\"I Hope I Get It\"']"
   ]
  },
  {
   "cell_type": "markdown",
   "id": "a67c654a",
   "metadata": {},
   "source": [
    "### Top Answers"
   ]
  },
  {
   "cell_type": "code",
   "execution_count": 25,
   "id": "54672bc2",
   "metadata": {},
   "outputs": [
    {
     "name": "stdout",
     "output_type": "stream",
     "text": [
      "<class 'pandas.core.frame.DataFrame'>\n",
      "Int64Index: 280406 entries, 0 to 285179\n",
      "Data columns (total 11 columns):\n",
      " #   Column      Non-Null Count   Dtype \n",
      "---  ------      --------------   ----- \n",
      " 0   show_num    280406 non-null  int64 \n",
      " 1   show_yr     280406 non-null  int64 \n",
      " 2   show_mo     280406 non-null  object\n",
      " 3   round       280406 non-null  object\n",
      " 4   category    280406 non-null  object\n",
      " 5   value       280406 non-null  object\n",
      " 6   clue        280406 non-null  object\n",
      " 7   is_DD       280406 non-null  int64 \n",
      " 8   answer      280406 non-null  object\n",
      " 9   is_stumper  280406 non-null  int64 \n",
      " 10  level       280406 non-null  int64 \n",
      "dtypes: int64(5), object(6)\n",
      "memory usage: 25.7+ MB\n"
     ]
    }
   ],
   "source": [
    "# Seperate j and dj from final jeopardy\n",
    "game = df[df['round'] != 'Final Jeopardy']\n",
    "game.info()"
   ]
  },
  {
   "cell_type": "code",
   "execution_count": 26,
   "id": "fdac0957",
   "metadata": {},
   "outputs": [
    {
     "data": {
      "text/plain": [
       "Chicago         257\n",
       "Australia       228\n",
       "China           219\n",
       "California      202\n",
       "India           199\n",
       "France          186\n",
       "Canada          186\n",
       "Japan           185\n",
       "Florida         177\n",
       "Mexico          172\n",
       "Spain           171\n",
       "Alaska          168\n",
       "Texas           167\n",
       "Russia          164\n",
       "Brazil          164\n",
       "Italy           155\n",
       "New York        154\n",
       "Paris           149\n",
       "Ireland         142\n",
       "Germany         141\n",
       "Egypt           139\n",
       "South Africa    139\n",
       "London          138\n",
       "Hawaii          137\n",
       "Greece          137\n",
       "Name: answer, dtype: int64"
      ]
     },
     "execution_count": 26,
     "metadata": {},
     "output_type": "execute_result"
    }
   ],
   "source": [
    "game.answer.value_counts().nlargest(25)"
   ]
  },
  {
   "cell_type": "markdown",
   "id": "50c87f04",
   "metadata": {},
   "source": [
    "### Top Final Jeopardy Answers"
   ]
  },
  {
   "cell_type": "code",
   "execution_count": 27,
   "id": "966651bb",
   "metadata": {},
   "outputs": [
    {
     "name": "stdout",
     "output_type": "stream",
     "text": [
      "<class 'pandas.core.frame.DataFrame'>\n",
      "Int64Index: 4775 entries, 60 to 285180\n",
      "Data columns (total 11 columns):\n",
      " #   Column      Non-Null Count  Dtype \n",
      "---  ------      --------------  ----- \n",
      " 0   show_num    4775 non-null   int64 \n",
      " 1   show_yr     4775 non-null   int64 \n",
      " 2   show_mo     4775 non-null   object\n",
      " 3   round       4775 non-null   object\n",
      " 4   category    4775 non-null   object\n",
      " 5   value       4775 non-null   object\n",
      " 6   clue        4775 non-null   object\n",
      " 7   is_DD       4775 non-null   int64 \n",
      " 8   answer      4775 non-null   object\n",
      " 9   is_stumper  4775 non-null   int64 \n",
      " 10  level       4775 non-null   int64 \n",
      "dtypes: int64(5), object(6)\n",
      "memory usage: 447.7+ KB\n"
     ]
    },
    {
     "data": {
      "text/html": [
       "<div>\n",
       "<style scoped>\n",
       "    .dataframe tbody tr th:only-of-type {\n",
       "        vertical-align: middle;\n",
       "    }\n",
       "\n",
       "    .dataframe tbody tr th {\n",
       "        vertical-align: top;\n",
       "    }\n",
       "\n",
       "    .dataframe thead th {\n",
       "        text-align: right;\n",
       "    }\n",
       "</style>\n",
       "<table border=\"1\" class=\"dataframe\">\n",
       "  <thead>\n",
       "    <tr style=\"text-align: right;\">\n",
       "      <th></th>\n",
       "      <th>show_num</th>\n",
       "      <th>show_yr</th>\n",
       "      <th>show_mo</th>\n",
       "      <th>round</th>\n",
       "      <th>category</th>\n",
       "      <th>value</th>\n",
       "      <th>clue</th>\n",
       "      <th>is_DD</th>\n",
       "      <th>answer</th>\n",
       "      <th>is_stumper</th>\n",
       "      <th>level</th>\n",
       "    </tr>\n",
       "  </thead>\n",
       "  <tbody>\n",
       "    <tr>\n",
       "      <th>60</th>\n",
       "      <td>3906</td>\n",
       "      <td>2001</td>\n",
       "      <td>September</td>\n",
       "      <td>Final Jeopardy</td>\n",
       "      <td>AUTOMOTIVE HISTORY</td>\n",
       "      <td>FJ</td>\n",
       "      <td>This Ford with a name from Native American myth was the first model to be Motor Trend Car of the Year</td>\n",
       "      <td>0</td>\n",
       "      <td>the Thunderbird</td>\n",
       "      <td>0</td>\n",
       "      <td>6</td>\n",
       "    </tr>\n",
       "    <tr>\n",
       "      <th>119</th>\n",
       "      <td>3907</td>\n",
       "      <td>2001</td>\n",
       "      <td>September</td>\n",
       "      <td>Final Jeopardy</td>\n",
       "      <td>NATIONAL ANTHEMS</td>\n",
       "      <td>FJ</td>\n",
       "      <td>\"Land Of Two Rivers\" is the anthem of this country whose history goes back thousands of years</td>\n",
       "      <td>0</td>\n",
       "      <td>Iraq</td>\n",
       "      <td>0</td>\n",
       "      <td>6</td>\n",
       "    </tr>\n",
       "    <tr>\n",
       "      <th>180</th>\n",
       "      <td>3908</td>\n",
       "      <td>2001</td>\n",
       "      <td>September</td>\n",
       "      <td>Final Jeopardy</td>\n",
       "      <td>19th CENTURY AUTHORS</td>\n",
       "      <td>FJ</td>\n",
       "      <td>D.H. Lawrence called him \"an adventurer into the vaults and...horrible underground passages of the human soul\"</td>\n",
       "      <td>0</td>\n",
       "      <td>Edgar Allan Poe</td>\n",
       "      <td>0</td>\n",
       "      <td>6</td>\n",
       "    </tr>\n",
       "    <tr>\n",
       "      <th>241</th>\n",
       "      <td>3909</td>\n",
       "      <td>2001</td>\n",
       "      <td>September</td>\n",
       "      <td>Final Jeopardy</td>\n",
       "      <td>HISTORIC NAMES</td>\n",
       "      <td>FJ</td>\n",
       "      <td>In 1978, Congress restored U.S. citizenship to this man seen here</td>\n",
       "      <td>0</td>\n",
       "      <td>Jefferson Davis</td>\n",
       "      <td>0</td>\n",
       "      <td>6</td>\n",
       "    </tr>\n",
       "    <tr>\n",
       "      <th>301</th>\n",
       "      <td>3910</td>\n",
       "      <td>2001</td>\n",
       "      <td>September</td>\n",
       "      <td>Final Jeopardy</td>\n",
       "      <td>ZOOLOGY</td>\n",
       "      <td>FJ</td>\n",
       "      <td>Animal species that's the subject of the longest consecutive study of any group of wild animals, 40 years</td>\n",
       "      <td>0</td>\n",
       "      <td>chimpanzees</td>\n",
       "      <td>0</td>\n",
       "      <td>6</td>\n",
       "    </tr>\n",
       "  </tbody>\n",
       "</table>\n",
       "</div>"
      ],
      "text/plain": [
       "     show_num  show_yr    show_mo           round              category value  \\\n",
       "60       3906     2001  September  Final Jeopardy    AUTOMOTIVE HISTORY    FJ   \n",
       "119      3907     2001  September  Final Jeopardy      NATIONAL ANTHEMS    FJ   \n",
       "180      3908     2001  September  Final Jeopardy  19th CENTURY AUTHORS    FJ   \n",
       "241      3909     2001  September  Final Jeopardy        HISTORIC NAMES    FJ   \n",
       "301      3910     2001  September  Final Jeopardy               ZOOLOGY    FJ   \n",
       "\n",
       "                                                                                                               clue  \\\n",
       "60            This Ford with a name from Native American myth was the first model to be Motor Trend Car of the Year   \n",
       "119                   \"Land Of Two Rivers\" is the anthem of this country whose history goes back thousands of years   \n",
       "180  D.H. Lawrence called him \"an adventurer into the vaults and...horrible underground passages of the human soul\"   \n",
       "241                                               In 1978, Congress restored U.S. citizenship to this man seen here   \n",
       "301       Animal species that's the subject of the longest consecutive study of any group of wild animals, 40 years   \n",
       "\n",
       "     is_DD           answer  is_stumper  level  \n",
       "60       0  the Thunderbird           0      6  \n",
       "119      0             Iraq           0      6  \n",
       "180      0  Edgar Allan Poe           0      6  \n",
       "241      0  Jefferson Davis           0      6  \n",
       "301      0      chimpanzees           0      6  "
      ]
     },
     "execution_count": 27,
     "metadata": {},
     "output_type": "execute_result"
    }
   ],
   "source": [
    "fj = df[df['round'] == \"Final Jeopardy\"]\n",
    "fj.info()\n",
    "fj.head()"
   ]
  },
  {
   "cell_type": "code",
   "execution_count": 28,
   "id": "aa470312",
   "metadata": {},
   "outputs": [
    {
     "data": {
      "text/plain": [
       "Edgar Allan Poe       9\n",
       "Ernest Hemingway      8\n",
       "Benjamin Franklin     8\n",
       "the Netherlands       7\n",
       "Canada                7\n",
       "Gone with the Wind    7\n",
       "New York              7\n",
       "Richard Nixon         7\n",
       "Maryland              7\n",
       "Hawaii                7\n",
       "Mark Twain            7\n",
       "the Philippines       6\n",
       "Dracula               6\n",
       "Walt Whitman          6\n",
       "Frankenstein          6\n",
       "Australia             6\n",
       "Waiting for Godot     6\n",
       "Abraham Lincoln       6\n",
       "India                 6\n",
       "Alaska                6\n",
       "Name: answer, dtype: int64"
      ]
     },
     "execution_count": 28,
     "metadata": {},
     "output_type": "execute_result"
    }
   ],
   "source": [
    "fj.answer.value_counts().nlargest(20)"
   ]
  },
  {
   "cell_type": "markdown",
   "id": "d66bb669",
   "metadata": {},
   "source": [
    "### Top categories over the full 20 years"
   ]
  },
  {
   "cell_type": "code",
   "execution_count": 29,
   "id": "6108d090",
   "metadata": {},
   "outputs": [
    {
     "data": {
      "text/plain": [
       "BEFORE & AFTER             525\n",
       "AMERICAN HISTORY           424\n",
       "POTPOURRI                  423\n",
       "SCIENCE                    412\n",
       "WORD ORIGINS               380\n",
       "RHYME TIME                 298\n",
       "NONFICTION                 293\n",
       "POP CULTURE                277\n",
       "STUPID ANSWERS             275\n",
       "AMERICANA                  273\n",
       "BODIES OF WATER            267\n",
       "LITERATURE                 266\n",
       "HODGEPODGE                 259\n",
       "HISTORY                    253\n",
       "CLASSICAL MUSIC            252\n",
       "TRANSPORTATION             244\n",
       "3-LETTER WORDS             244\n",
       "IN THE DICTIONARY          244\n",
       "ART & ARTISTS              243\n",
       "COLLEGES & UNIVERSITIES    239\n",
       "Name: category, dtype: int64"
      ]
     },
     "execution_count": 29,
     "metadata": {},
     "output_type": "execute_result"
    }
   ],
   "source": [
    "df.category.value_counts().nlargest(20)"
   ]
  },
  {
   "cell_type": "markdown",
   "id": "9cabc94b",
   "metadata": {},
   "source": [
    "### Top categories over the past 5 years"
   ]
  },
  {
   "cell_type": "code",
   "execution_count": 30,
   "id": "fa5f290b",
   "metadata": {},
   "outputs": [
    {
     "data": {
      "text/plain": [
       "AMERICAN HISTORY    180\n",
       "SCIENCE             154\n",
       "POTPOURRI           130\n",
       "HISTORY             130\n",
       "HODGEPODGE          100\n",
       "AROUND THE WORLD    100\n",
       "WORD ORIGINS         98\n",
       "LITERATURE           91\n",
       "BEFORE & AFTER       90\n",
       "BOOKS & AUTHORS      80\n",
       "TRANSPORTATION       79\n",
       "WORLD HISTORY        79\n",
       "GEOGRAPHY            77\n",
       "BODIES OF WATER      75\n",
       "EUROPEAN HISTORY     74\n",
       "NONFICTION           72\n",
       "U.S. GEOGRAPHY       71\n",
       "RHYME TIME           70\n",
       "WORLD GEOGRAPHY      67\n",
       "CLASSICAL MUSIC      62\n",
       "Name: category, dtype: int64"
      ]
     },
     "execution_count": 30,
     "metadata": {},
     "output_type": "execute_result"
    }
   ],
   "source": [
    "df5 = df[df.show_yr > 2016]\n",
    "df5.category.value_counts().nlargest(20)"
   ]
  },
  {
   "cell_type": "markdown",
   "id": "5dd3a8cb",
   "metadata": {},
   "source": [
    "### Triple Stumpers"
   ]
  },
  {
   "cell_type": "code",
   "execution_count": 33,
   "id": "fef92eb8",
   "metadata": {},
   "outputs": [
    {
     "name": "stdout",
     "output_type": "stream",
     "text": [
      "<class 'pandas.core.frame.DataFrame'>\n",
      "Int64Index: 39782 entries, 15 to 285167\n",
      "Data columns (total 11 columns):\n",
      " #   Column      Non-Null Count  Dtype \n",
      "---  ------      --------------  ----- \n",
      " 0   show_num    39782 non-null  int64 \n",
      " 1   show_yr     39782 non-null  int64 \n",
      " 2   show_mo     39782 non-null  object\n",
      " 3   round       39782 non-null  object\n",
      " 4   category    39782 non-null  object\n",
      " 5   value       39782 non-null  object\n",
      " 6   clue        39782 non-null  object\n",
      " 7   is_DD       39782 non-null  int64 \n",
      " 8   answer      39782 non-null  object\n",
      " 9   is_stumper  39782 non-null  int64 \n",
      " 10  level       39782 non-null  int64 \n",
      "dtypes: int64(5), object(6)\n",
      "memory usage: 3.6+ MB\n"
     ]
    },
    {
     "data": {
      "text/html": [
       "<div>\n",
       "<style scoped>\n",
       "    .dataframe tbody tr th:only-of-type {\n",
       "        vertical-align: middle;\n",
       "    }\n",
       "\n",
       "    .dataframe tbody tr th {\n",
       "        vertical-align: top;\n",
       "    }\n",
       "\n",
       "    .dataframe thead th {\n",
       "        text-align: right;\n",
       "    }\n",
       "</style>\n",
       "<table border=\"1\" class=\"dataframe\">\n",
       "  <thead>\n",
       "    <tr style=\"text-align: right;\">\n",
       "      <th></th>\n",
       "      <th>show_num</th>\n",
       "      <th>show_yr</th>\n",
       "      <th>show_mo</th>\n",
       "      <th>round</th>\n",
       "      <th>category</th>\n",
       "      <th>value</th>\n",
       "      <th>clue</th>\n",
       "      <th>is_DD</th>\n",
       "      <th>answer</th>\n",
       "      <th>is_stumper</th>\n",
       "      <th>level</th>\n",
       "    </tr>\n",
       "  </thead>\n",
       "  <tbody>\n",
       "    <tr>\n",
       "      <th>99178</th>\n",
       "      <td>5561</td>\n",
       "      <td>2008</td>\n",
       "      <td>November</td>\n",
       "      <td>Jeopardy</td>\n",
       "      <td>YOU'RE SUCH AN ANIMAL!</td>\n",
       "      <td>1000</td>\n",
       "      <td>Pictured here, this husky-like sled dog is named for the Inuit tribe who developed the breed</td>\n",
       "      <td>0</td>\n",
       "      <td>Malamute</td>\n",
       "      <td>1</td>\n",
       "      <td>5</td>\n",
       "    </tr>\n",
       "    <tr>\n",
       "      <th>11955</th>\n",
       "      <td>4107</td>\n",
       "      <td>2002</td>\n",
       "      <td>June</td>\n",
       "      <td>Double Jeopardy</td>\n",
       "      <td>SOMETHING'S FISHY</td>\n",
       "      <td>1600</td>\n",
       "      <td>Until one was caught in 1938, it was thought that this fish had been extinct for more than 70 million years</td>\n",
       "      <td>0</td>\n",
       "      <td>the coelacanth</td>\n",
       "      <td>1</td>\n",
       "      <td>5</td>\n",
       "    </tr>\n",
       "    <tr>\n",
       "      <th>130829</th>\n",
       "      <td>6091</td>\n",
       "      <td>2011</td>\n",
       "      <td>February</td>\n",
       "      <td>Double Jeopardy</td>\n",
       "      <td>TV CARTOON BY CHARACTERS</td>\n",
       "      <td>2000</td>\n",
       "      <td>Killface,Awesome X,Grace Ryan</td>\n",
       "      <td>0</td>\n",
       "      <td>Frisky Dingo</td>\n",
       "      <td>1</td>\n",
       "      <td>5</td>\n",
       "    </tr>\n",
       "    <tr>\n",
       "      <th>187624</th>\n",
       "      <td>7046</td>\n",
       "      <td>2015</td>\n",
       "      <td>April</td>\n",
       "      <td>Jeopardy</td>\n",
       "      <td>COUNTRIES IN 3 WORDS</td>\n",
       "      <td>1000</td>\n",
       "      <td>Formerly Gilbert Islands</td>\n",
       "      <td>0</td>\n",
       "      <td>Kiribati</td>\n",
       "      <td>1</td>\n",
       "      <td>5</td>\n",
       "    </tr>\n",
       "    <tr>\n",
       "      <th>14279</th>\n",
       "      <td>4145</td>\n",
       "      <td>2002</td>\n",
       "      <td>September</td>\n",
       "      <td>Double Jeopardy</td>\n",
       "      <td>\"J\" WALKING</td>\n",
       "      <td>2000</td>\n",
       "      <td>Christian monk &amp; translator Eusebius Hieronymus is better known as this saint</td>\n",
       "      <td>0</td>\n",
       "      <td>Saint Jerome</td>\n",
       "      <td>1</td>\n",
       "      <td>5</td>\n",
       "    </tr>\n",
       "  </tbody>\n",
       "</table>\n",
       "</div>"
      ],
      "text/plain": [
       "        show_num  show_yr    show_mo            round  \\\n",
       "99178       5561     2008   November         Jeopardy   \n",
       "11955       4107     2002       June  Double Jeopardy   \n",
       "130829      6091     2011   February  Double Jeopardy   \n",
       "187624      7046     2015      April         Jeopardy   \n",
       "14279       4145     2002  September  Double Jeopardy   \n",
       "\n",
       "                        category value  \\\n",
       "99178     YOU'RE SUCH AN ANIMAL!  1000   \n",
       "11955          SOMETHING'S FISHY  1600   \n",
       "130829  TV CARTOON BY CHARACTERS  2000   \n",
       "187624      COUNTRIES IN 3 WORDS  1000   \n",
       "14279                \"J\" WALKING  2000   \n",
       "\n",
       "                                                                                                               clue  \\\n",
       "99178                  Pictured here, this husky-like sled dog is named for the Inuit tribe who developed the breed   \n",
       "11955   Until one was caught in 1938, it was thought that this fish had been extinct for more than 70 million years   \n",
       "130829                                                                                Killface,Awesome X,Grace Ryan   \n",
       "187624                                                                                     Formerly Gilbert Islands   \n",
       "14279                                 Christian monk & translator Eusebius Hieronymus is better known as this saint   \n",
       "\n",
       "        is_DD          answer  is_stumper  level  \n",
       "99178       0        Malamute           1      5  \n",
       "11955       0  the coelacanth           1      5  \n",
       "130829      0    Frisky Dingo           1      5  \n",
       "187624      0        Kiribati           1      5  \n",
       "14279       0    Saint Jerome           1      5  "
      ]
     },
     "execution_count": 33,
     "metadata": {},
     "output_type": "execute_result"
    }
   ],
   "source": [
    "ts = df[df.is_stumper == 1]\n",
    "ts.info()\n",
    "ts.sample(5)"
   ]
  },
  {
   "cell_type": "markdown",
   "id": "50200513",
   "metadata": {},
   "source": [
    "Have questions been getting more difficult?\n"
   ]
  },
  {
   "cell_type": "code",
   "execution_count": 34,
   "id": "b78a05db",
   "metadata": {},
   "outputs": [
    {
     "data": {
      "text/plain": [
       "<AxesSubplot:xlabel='show_yr', ylabel='Count'>"
      ]
     },
     "execution_count": 34,
     "metadata": {},
     "output_type": "execute_result"
    },
    {
     "data": {
      "image/png": "[encoded data removed]",
      "text/plain": [
       "<Figure size 432x288 with 1 Axes>"
      ]
     },
     "metadata": {
      "needs_background": "light"
     },
     "output_type": "display_data"
    }
   ],
   "source": [
    "sns.histplot(data = ts, x = 'show_yr', bins = 21, binrange = (2000,2023))"
   ]
  },
  {
   "cell_type": "code",
   "execution_count": 37,
   "id": "c814a13f",
   "metadata": {},
   "outputs": [
    {
     "data": {
      "text/plain": [
       "2000    8713\n",
       "800     6920\n",
       "1000    6398\n",
       "1600    5630\n",
       "1200    4125\n",
       "400     3819\n",
       "600     3012\n",
       "200     1165\n",
       "Name: value, dtype: int64"
      ]
     },
     "execution_count": 37,
     "metadata": {},
     "output_type": "execute_result"
    }
   ],
   "source": [
    "ts['value'].value_counts()"
   ]
  },
  {
   "cell_type": "code",
   "execution_count": 39,
   "id": "436713e9",
   "metadata": {},
   "outputs": [
    {
     "name": "stderr",
     "output_type": "stream",
     "text": [
      "/opt/homebrew/anaconda3/lib/python3.9/site-packages/seaborn/distributions.py:2619: FutureWarning: `distplot` is a deprecated function and will be removed in a future version. Please adapt your code to use either `displot` (a figure-level function with similar flexibility) or `histplot` (an axes-level function for histograms).\n",
      "  warnings.warn(msg, FutureWarning)\n"
     ]
    },
    {
     "data": {
      "text/plain": [
       "<AxesSubplot:xlabel='value', ylabel='Density'>"
      ]
     },
     "execution_count": 39,
     "metadata": {},
     "output_type": "execute_result"
    },
    {
     "data": {
      "image/png": "[encoded data removed]",
      "text/plain": [
       "<Figure size 1728x1728 with 1 Axes>"
      ]
     },
     "metadata": {
      "needs_background": "light"
     },
     "output_type": "display_data"
    }
   ],
   "source": [
    "plt.figure(figsize = (24,24))\n",
    "sns.distplot(ts['value'])"
   ]
  },
  {
   "cell_type": "code",
   "execution_count": null,
   "id": "02dd3459",
   "metadata": {},
   "outputs": [],
   "source": []
  },
  {
   "cell_type": "markdown",
   "id": "bba8a651",
   "metadata": {},
   "source": [
    "### Else..."
   ]
  },
  {
   "cell_type": "code",
   "execution_count": 32,
   "id": "8f8a4ed4",
   "metadata": {},
   "outputs": [
    {
     "data": {
      "text/plain": [
       "Elizabeth Barrett Browning    13\n",
       "Lord Byron                    11\n",
       "Emily Dickinson               10\n",
       "Robert Frost                  10\n",
       "Walt Whitman                   7\n",
       "Edna St. Vincent Millay        7\n",
       "Allen Ginsberg                 6\n",
       "Langston Hughes                6\n",
       "Keats                          6\n",
       "(Walt) Whitman                 6\n",
       "(Edgar Allan) Poe              6\n",
       "Tennyson                       6\n",
       "Dylan Thomas                   6\n",
       "(Rabbie) Burns                 5\n",
       "Shelley                        5\n",
       "Dante                          5\n",
       "(Robert) Frost                 5\n",
       "Wordsworth                     5\n",
       "Annabel Lee                    5\n",
       "John Donne                     5\n",
       "Name: answer, dtype: int64"
      ]
     },
     "execution_count": 32,
     "metadata": {},
     "output_type": "execute_result"
    }
   ],
   "source": [
    "df[df.category.str.contains('.POET.')].answer.value_counts().nlargest(20)"
   ]
  }
 ],
 "metadata": {
  "kernelspec": {
   "display_name": "Python 3 (ipykernel)",
   "language": "python",
   "name": "python3"
  },
  "language_info": {
   "codemirror_mode": {
    "name": "ipython",
    "version": 3
   },
   "file_extension": ".py",
   "mimetype": "text/x-python",
   "name": "python",
   "nbconvert_exporter": "python",
   "pygments_lexer": "ipython3",
   "version": "3.9.7"
  }
 },
 "nbformat": 4,
 "nbformat_minor": 5
}
