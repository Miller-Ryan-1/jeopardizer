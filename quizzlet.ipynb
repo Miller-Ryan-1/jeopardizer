{
 "cells": [
  {
   "cell_type": "code",
   "execution_count": 2,
   "id": "f5558b68",
   "metadata": {},
   "outputs": [],
   "source": [
    "import pandas as pd\n",
    "import numpy as np\n",
    "import re\n",
    "\n",
    "from tkinter import *\n",
    "from PIL import ImageTk, Image"
   ]
  },
  {
   "cell_type": "markdown",
   "id": "c719ffb1",
   "metadata": {},
   "source": [
    "# Window 1 - Intro, instructions\n",
    "- Label : Welcome message\n",
    "- Label : Instructions\n",
    "- Picture : Alex shout out\n",
    "- Buttion : Start app"
   ]
  },
  {
   "cell_type": "markdown",
   "id": "a3d9520e",
   "metadata": {},
   "source": [
    "### Create Root Window"
   ]
  },
  {
   "cell_type": "markdown",
   "id": "246e104a",
   "metadata": {},
   "source": [
    "To do:\n",
    "- Get window sizing and packing tighter\n",
    "- L:eft align and format instructions test\n",
    "- Try to get Alex image proper in there - label should be transparent!\n",
    "- Else?..."
   ]
  },
  {
   "cell_type": "code",
   "execution_count": 4,
   "id": "f499c251",
   "metadata": {},
   "outputs": [
    {
     "ename": "NameError",
     "evalue": "name 'body_frame' is not defined",
     "output_type": "error",
     "traceback": [
      "\u001b[0;31m---------------------------------------------------------------------------\u001b[0m",
      "\u001b[0;31mNameError\u001b[0m                                 Traceback (most recent call last)",
      "\u001b[0;32m/var/folders/nw/8yyyyp8n70vbplhdsylyqs8c0000gn/T/ipykernel_21627/1687320356.py\u001b[0m in \u001b[0;36m<module>\u001b[0;34m\u001b[0m\n\u001b[1;32m     19\u001b[0m                     \u001b[0;36m7.\u001b[0m \u001b[0mQuit\u001b[0m \u001b[0manytime\u001b[0m \u001b[0mby\u001b[0m \u001b[0mclosing\u001b[0m \u001b[0mthe\u001b[0m \u001b[0mwindow\u001b[0m\u001b[0;34m.\u001b[0m\u001b[0;34m\u001b[0m\u001b[0;34m\u001b[0m\u001b[0m\n\u001b[1;32m     20\u001b[0m                     '''\n\u001b[0;32m---> 21\u001b[0;31m \u001b[0minstructions\u001b[0m \u001b[0;34m=\u001b[0m \u001b[0mLabel\u001b[0m\u001b[0;34m(\u001b[0m\u001b[0mbody_frame\u001b[0m\u001b[0;34m,\u001b[0m \u001b[0mtext\u001b[0m \u001b[0;34m=\u001b[0m \u001b[0minstructions_text\u001b[0m\u001b[0;34m,\u001b[0m \u001b[0manchor\u001b[0m \u001b[0;34m=\u001b[0m \u001b[0mLEFT\u001b[0m\u001b[0;34m)\u001b[0m\u001b[0;34m\u001b[0m\u001b[0;34m\u001b[0m\u001b[0m\n\u001b[0m\u001b[1;32m     22\u001b[0m \u001b[0;34m\u001b[0m\u001b[0m\n\u001b[1;32m     23\u001b[0m \u001b[0mstart_button\u001b[0m \u001b[0;34m=\u001b[0m \u001b[0mButton\u001b[0m\u001b[0;34m(\u001b[0m\u001b[0mbody_frame\u001b[0m\u001b[0;34m,\u001b[0m \u001b[0mtext\u001b[0m \u001b[0;34m=\u001b[0m \u001b[0;34m'START'\u001b[0m\u001b[0;34m,\u001b[0m \u001b[0mcommand\u001b[0m \u001b[0;34m=\u001b[0m \u001b[0mstart\u001b[0m\u001b[0;34m)\u001b[0m\u001b[0;34m\u001b[0m\u001b[0;34m\u001b[0m\u001b[0m\n",
      "\u001b[0;31mNameError\u001b[0m: name 'body_frame' is not defined"
     ]
    }
   ],
   "source": [
    "root = Tk()\n",
    "root.title('Jeopardizer')\n",
    "root.geometry('600x600')\n",
    "\n",
    "welcome_frame = Frame(root)\n",
    "\n",
    "welcome_text = 'LET\"S PLAY JEOPARDY!'\n",
    "welcome = Label(welcome_frame, text = welcome_text, bg = 'blue', fg = 'white')\n",
    "\n",
    "instructions_text = '''\n",
    "                    Instructions:\\n\n",
    "                    1. Click START below.\\n\n",
    "                    2. Select a category from the four displayed.\\n\n",
    "                    3. After clicking on the selected category, the question will be displayed for 10 seconds, or until ANSWER is clicked.\\n\n",
    "                    4. The answer will be displayed, along with details including the year and month of the show the question is from.\\n\n",
    "                    \\t-If you get it correct, click the CORRECT button.  Your difficultly level (shown in the upper right) will increase by one.\\n\n",
    "                    \\t-If you get it wrong, or the timer ran out before you answered, click the MISSED/SKIPPED button.  The difficulty level will decrease by one (if greater than 1).\\n\n",
    "                    6. Difficulty ranges from 1 to 6 (all final jeopardies). Difficulty 5 level questions are all triple stumpers (no player got the answer on the show).\\n\n",
    "                    7. Quit anytime by closing the window.\n",
    "                    '''\n",
    "instructions = Label(body_frame, text = instructions_text, anchor = LEFT)\n",
    "\n",
    "start_button = Button(body_frame, text = 'START', command = start)\n",
    "\n",
    "welcome.pack()\n",
    "instructions.pack()\n",
    "start_button.pack()\n",
    "\n",
    "root.mainloop()"
   ]
  },
  {
   "cell_type": "code",
   "execution_count": 3,
   "id": "4c1bbffc",
   "metadata": {},
   "outputs": [],
   "source": [
    "def start():\n",
    "    questions = Toplevel()\n",
    "    holder = Label(questions, text = 'developing situation')\n",
    "    holder.pack()"
   ]
  },
  {
   "cell_type": "code",
   "execution_count": null,
   "id": "85bbcb93",
   "metadata": {},
   "outputs": [],
   "source": []
  },
  {
   "cell_type": "code",
   "execution_count": null,
   "id": "54ff1a1d",
   "metadata": {},
   "outputs": [],
   "source": []
  },
  {
   "cell_type": "code",
   "execution_count": null,
   "id": "17b6ee91",
   "metadata": {},
   "outputs": [],
   "source": []
  },
  {
   "cell_type": "markdown",
   "id": "149f8c0a",
   "metadata": {},
   "source": [
    "# Window 2 - Clues"
   ]
  },
  {
   "cell_type": "code",
   "execution_count": null,
   "id": "a2124313",
   "metadata": {},
   "outputs": [],
   "source": [
    "df = pd.read_csv"
   ]
  },
  {
   "cell_type": "markdown",
   "id": "1f76c0bb",
   "metadata": {},
   "source": [
    "## Simple Window 1"
   ]
  },
  {
   "cell_type": "code",
   "execution_count": null,
   "id": "4810dfb4",
   "metadata": {},
   "outputs": [],
   "source": [
    "# Creates the core tk object (convetion is root)\n",
    "root = Tk()\n",
    "root.title(\"Jeopardizer\")\n",
    "\n",
    "# For button actions you pretty much need to create functions\n",
    "def myClick():\n",
    "    w3 = Label(root, text= \"yo sir \" + e.get())\n",
    "    w3.pack()\n",
    "    \n",
    "# Create entry space\n",
    "e = Entry(root, width = 50, bg='green', fg = 'white')\n",
    "# Below is the default text inside\n",
    "e.Insert(text = Jeopardy question)\n",
    "\n",
    "# These are two lable widgets - basically textboxes\n",
    "w1 = Label(root, text=\"Let's Play Jeopardy!\", background=\"#34A2FE\",width=20,height=20)\n",
    "w2 = Label(root, text = 'Petey Yosemite is a gayboycat')\n",
    "\n",
    "# Buttons, all about it\n",
    "button = Button(root, text = 'Hit this shit!', padx = 10, pady = 5, command = myClick, fg = 'red', bg = '#000000')\n",
    "\n",
    "# This is how they fit.  Pack is the simplest way to put shit together,\n",
    "# grid and relative placements also used\n",
    "e.pack()\n",
    "w1.pack()\n",
    "w2.pack()\n",
    "button.pack()\n",
    "\n",
    "# You need this at the bottom so that it runs\n",
    "root.mainloop()"
   ]
  },
  {
   "cell_type": "markdown",
   "id": "db469fde",
   "metadata": {},
   "source": [
    "For grids:\n",
    "e.grid(row = 0, column = 0, columnspan = 3) \n",
    "- This gives you a three column wide fit widget"
   ]
  },
  {
   "cell_type": "markdown",
   "id": "3129ac07",
   "metadata": {},
   "source": [
    "Since you cannot use a function directly in a button, in order to pass parameters, you have to use command = Lambda: function()"
   ]
  },
  {
   "cell_type": "markdown",
   "id": "d39952b9",
   "metadata": {},
   "source": [
    "## Images"
   ]
  },
  {
   "cell_type": "markdown",
   "id": "7f500733",
   "metadata": {},
   "source": [
    "##### Note: Cannot quit from a Jupyter Notebook"
   ]
  },
  {
   "cell_type": "code",
   "execution_count": null,
   "id": "aec2322b",
   "metadata": {},
   "outputs": [],
   "source": [
    "root = Tk()\n",
    "root.title(\"Press button to quit\")\n",
    "\n",
    "# Add an icon\n",
    "root.iconbitmap('favicon.ico')\n",
    "\n",
    "# Drop an image in there hoss\n",
    "my_img = ImageTk.PhotoImage(Image.open('dubs.png'))\n",
    "my_label = Label(image = my_image)\n",
    "my_label.pack()\n",
    "\n",
    "\n",
    "# Quitting and closing window\n",
    "button_quit = Button(root, text = 'Peace this', command = root.destroy)\n",
    "button_quit.pack()\n",
    "\n",
    "root.mainloop()"
   ]
  },
  {
   "cell_type": "markdown",
   "id": "f58370a3",
   "metadata": {},
   "source": [
    "## Status Bar"
   ]
  },
  {
   "cell_type": "code",
   "execution_count": null,
   "id": "29334c77",
   "metadata": {},
   "outputs": [],
   "source": [
    "status = Label(root, txt = f'page {} of {len()}')"
   ]
  },
  {
   "cell_type": "markdown",
   "id": "eecc4022",
   "metadata": {},
   "source": [
    "## Message Box"
   ]
  },
  {
   "cell_type": "code",
   "execution_count": null,
   "id": "96717a5d",
   "metadata": {},
   "outputs": [],
   "source": [
    "messagebox.showinfo('window title','window message')\n",
    "# can also use showerror, showwarning, askquestion, askokcancel, askokyesno"
   ]
  },
  {
   "cell_type": "code",
   "execution_count": null,
   "id": "ba45d7d7",
   "metadata": {},
   "outputs": [],
   "source": [
    "# Need to specifically import messagebox\n",
    "# Returns a 1 for yes and 0 for no\n",
    "\n",
    "from tkinter import messagebox\n",
    "\n",
    "root = Tk()\n",
    "root.title('Testing')\n",
    "\n",
    "def popup():\n",
    "    response = messagebox.askyesno(\"Popup Jack\", 'Are you for Malarkey?')\n",
    "    Label(root, text=response).pack()\n",
    "    if response == 1:\n",
    "        Label(root, text = 'Clicked Yehaw').pack()\n",
    "    else:\n",
    "        Label(root, text = 'Clicked Nopaw').pack()\n",
    "\n",
    "\n",
    "Button(root, text = 'Popup', command = popup).pack()\n",
    "\n",
    "root.mainloop()  \n",
    "    "
   ]
  },
  {
   "cell_type": "markdown",
   "id": "2d449f01",
   "metadata": {},
   "source": [
    "## New Windows"
   ]
  },
  {
   "cell_type": "code",
   "execution_count": null,
   "id": "227bccfe",
   "metadata": {},
   "outputs": [],
   "source": [
    "root = Tk()\n",
    "root.title('Testing')\n",
    "\n",
    "# Toplevel is the convention for calling secondary (and tertiary) windows\n",
    "top = Toplevel()\n",
    "lbl = Label(top, text = 'Hi there!').pack()\n",
    "horizontal = Scale(root, from_ = 0, to = 200, orient = HORIZONTAL)\n",
    "horizontal.pack()\n",
    "\n",
    "my_label = Label(root, text = horizontal.get())\n",
    "my_label.pack()\n",
    "\n",
    "bottom = Toplevel()\n",
    "button = Button(bottom, text = 'Hit this shit!', padx = 10, pady = 5, fg = 'red', bg = '#000000')\n",
    "button.pack()\n",
    "\n",
    "mainloop()"
   ]
  },
  {
   "cell_type": "markdown",
   "id": "1e202f4d",
   "metadata": {},
   "source": [
    "##### Python thinks variables within secondary window functions are garbage to collects them.  Basically you need to assign the global variable in the function"
   ]
  },
  {
   "cell_type": "code",
   "execution_count": null,
   "id": "fbae1d38",
   "metadata": {},
   "outputs": [],
   "source": []
  }
 ],
 "metadata": {
  "kernelspec": {
   "display_name": "Python 3 (ipykernel)",
   "language": "python",
   "name": "python3"
  },
  "language_info": {
   "codemirror_mode": {
    "name": "ipython",
    "version": 3
   },
   "file_extension": ".py",
   "mimetype": "text/x-python",
   "name": "python",
   "nbconvert_exporter": "python",
   "pygments_lexer": "ipython3",
   "version": "3.9.7"
  }
 },
 "nbformat": 4,
 "nbformat_minor": 5
}
