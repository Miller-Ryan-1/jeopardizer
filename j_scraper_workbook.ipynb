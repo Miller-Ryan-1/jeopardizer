{
 "cells": [
  {
   "cell_type": "markdown",
   "id": "6ad49c21",
   "metadata": {},
   "source": [
    "## This is a cleaned up workbook working through the development of scraping functions for Jeopardy games (individual shows).  The .py function file has been updated so the first part is slightly out of date, but can be used to generate the overall pattern of how the acquisition works. "
   ]
  },
  {
   "cell_type": "markdown",
   "id": "7d7233a6",
   "metadata": {},
   "source": [
    "----"
   ]
  },
  {
   "cell_type": "markdown",
   "id": "cd464f96",
   "metadata": {},
   "source": [
    "### Import Libraries"
   ]
  },
  {
   "cell_type": "code",
   "execution_count": null,
   "id": "29e420be",
   "metadata": {},
   "outputs": [],
   "source": [
    "import pandas as pd\n",
    "import numpy as np\n",
    "import re\n",
    "import requests\n",
    "import time\n",
    "from bs4 import BeautifulSoup as bs\n",
    "\n",
    "import seaborn as sns\n",
    "import matplotlib.pyplot as plt"
   ]
  },
  {
   "cell_type": "markdown",
   "id": "f1fc4529",
   "metadata": {},
   "source": [
    "### Create Base Soup Object - Single Page Run"
   ]
  },
  {
   "cell_type": "code",
   "execution_count": null,
   "id": "28821ddd",
   "metadata": {},
   "outputs": [],
   "source": [
    "r = requests.get('https://j-archive.com/showgame.php?game_id=3576')\n",
    "soup = bs(r.content )"
   ]
  },
  {
   "cell_type": "markdown",
   "id": "deb93471",
   "metadata": {},
   "source": [
    "### Get Show Info"
   ]
  },
  {
   "cell_type": "code",
   "execution_count": null,
   "id": "14389afa",
   "metadata": {},
   "outputs": [],
   "source": [
    "show_info = soup.find('div', attrs = {'id':'game_title'}).text"
   ]
  },
  {
   "cell_type": "code",
   "execution_count": null,
   "id": "4b703a63",
   "metadata": {},
   "outputs": [],
   "source": [
    "show_num = re.findall(r'\\d+', show_info)[0]\n",
    "show_yr = re.findall(r'\\d+', show_info)[2][2:]\n",
    "show_mo = re.findall(r'[a-zA-Z]{2,}', show_info)[2]"
   ]
  },
  {
   "cell_type": "markdown",
   "id": "2575fbf2",
   "metadata": {},
   "source": [
    "### Identify Daily Doubles"
   ]
  },
  {
   "cell_type": "code",
   "execution_count": null,
   "id": "99a86bdd",
   "metadata": {},
   "outputs": [],
   "source": [
    "indexer = 1\n",
    "dd_list = []\n",
    "for thing in soup.find_all('td', class_ = 'clue'):\n",
    "    row = {}\n",
    "    row['q_index'] = indexer\n",
    "    indexer += 1\n",
    "    if thing.find('td', class_ = 'clue_value_daily_double'):\n",
    "        row['is_DD'] = 1\n",
    "    else:\n",
    "        row['is_DD'] = 0\n",
    "    dd_list.append(row)\n",
    "df_dd = pd.DataFrame(dd_list)"
   ]
  },
  {
   "cell_type": "markdown",
   "id": "370e533a",
   "metadata": {},
   "source": [
    "### Identify Answers and Triple Stumpers"
   ]
  },
  {
   "cell_type": "code",
   "execution_count": null,
   "id": "467656c6",
   "metadata": {
    "scrolled": false
   },
   "outputs": [],
   "source": [
    "answers = []\n",
    "counter = 1\n",
    "\n",
    "for clue in soup.find_all('td', class_ = 'clue'):\n",
    "    answer = {}\n",
    "    if counter < 61:\n",
    "        answer['q_index'] = counter\n",
    "        ans = clue.find('div', onmouseover = True).get('onmouseover')\n",
    "        cls = bs(ans)\n",
    "        answer['answer'] = cls.find('em').text\n",
    "        if 'Triple Stumper' in ans:\n",
    "            answer['is_stumper'] = 1\n",
    "        else:\n",
    "            answer['is_stumper'] = 0\n",
    "        answers.append(answer)\n",
    "        counter += 1\n",
    "df_ans = pd.DataFrame(answers)"
   ]
  },
  {
   "cell_type": "markdown",
   "id": "cc9e3e67",
   "metadata": {},
   "source": [
    "### Create Question List"
   ]
  },
  {
   "cell_type": "code",
   "execution_count": null,
   "id": "d6a71de8",
   "metadata": {},
   "outputs": [],
   "source": [
    "j_value = ['200','400','600','800','1000'] #should these be ints?\n",
    "dj_value = ['400','800','1200','1600','2000'] #SHould these be ints?"
   ]
  },
  {
   "cell_type": "code",
   "execution_count": null,
   "id": "e76775d0",
   "metadata": {},
   "outputs": [],
   "source": [
    "# Jeopardy Categories\n",
    "j_category_list = soup.find('div', attrs = {'id':'jeopardy_round'}).find_all('td', attrs = {'class':'category_name'})\n",
    "j_categories = []\n",
    "for category in j_category_list:\n",
    "    j_categories.append(category.get_text())"
   ]
  },
  {
   "cell_type": "code",
   "execution_count": null,
   "id": "0fbab7d6",
   "metadata": {},
   "outputs": [],
   "source": [
    "# Jeopardy:\n",
    "questions = []\n",
    "\n",
    "for i in range(6):\n",
    "    for j in range(5):\n",
    "        question = {}\n",
    "        \n",
    "        question['show_num'] = show_num\n",
    "        question['show_yr'] = show_yr\n",
    "        question['show_mo'] = show_mo\n",
    "        \n",
    "        question['round'] = 'Jeopardy'\n",
    "        \n",
    "        question['category'] = j_categories[i]\n",
    "         \n",
    "        question['value'] = j_value[j]\n",
    "        \n",
    "        clue = f'clue_J_{i+1}_{j+1}' \n",
    "        question['clue'] = soup.find('td', attrs = {'id':clue}).text\n",
    "        \n",
    "        question['q_index'] = (i + 1) + (6* j)\n",
    "        \n",
    "        questions.append(question)\n",
    "df_j_qs = pd.DataFrame(questions)"
   ]
  },
  {
   "cell_type": "code",
   "execution_count": null,
   "id": "86dd6c45",
   "metadata": {},
   "outputs": [],
   "source": [
    "# Double Jeopardy Categories\n",
    "dj_category_list = soup.find('div', attrs = {'id':'double_jeopardy_round'}).find_all('td', attrs = {'class':'category_name'})\n",
    "dj_categories = []\n",
    "for category in dj_category_list:\n",
    "    dj_categories.append(category.get_text())"
   ]
  },
  {
   "cell_type": "code",
   "execution_count": null,
   "id": "0f255aba",
   "metadata": {},
   "outputs": [],
   "source": [
    "# Double Jeopardy\n",
    "questions = []\n",
    "\n",
    "for i in range(6):\n",
    "    for j in range(5):\n",
    "        question = {}\n",
    "        question['q_index'] = 30 + (i + 1) + (6* j)\n",
    "        question['show_num'] = show_num\n",
    "        question['show_yr'] = show_yr\n",
    "        question['show_mo'] = show_mo\n",
    "        \n",
    "        question['round'] = 'Double Jeopardy'\n",
    "        \n",
    "        question['category'] = dj_categories[i]\n",
    "         \n",
    "        question['value'] = dj_value[j]\n",
    "        \n",
    "        clue = f'clue_DJ_{i+1}_{j+1}' \n",
    "        try:\n",
    "                question['clue'] = soup.find('td', attrs = {'id':clue}).text\n",
    "        except:\n",
    "            continue        \n",
    "        \n",
    "        questions.append(question)\n",
    "df_dj_qs = pd.DataFrame(questions)"
   ]
  },
  {
   "cell_type": "code",
   "execution_count": null,
   "id": "d17eb271",
   "metadata": {},
   "outputs": [],
   "source": [
    "# Final Jeopardy\n",
    "\n",
    "#q_index is unnecessary as this final jeopardy will be assigned after other dfs are combined\n",
    "\n",
    "fj = soup.find('table', class_ = 'final_round')\n",
    "\n",
    "f_j = {}\n",
    "f_j['show_num'] = show_num\n",
    "f_j['show_yr'] = show_yr\n",
    "f_j['show_mo'] = show_mo\n",
    "f_j['round'] = 'Final Jeopardy'\n",
    "f_j['value'] = 'FJ'\n",
    "f_j['is_DD'] = 0\n",
    "\n",
    "f_j['category'] = fj.find('td', class_ = 'category_name').text\n",
    "\n",
    "f_j['clue'] = fj.find('td', attrs = {'id':'clue_FJ'}).text\n",
    "\n",
    "ans = fj.find('div', onmouseover = True).get('onmouseover')\n",
    "cls = bs(ans)\n",
    "f_j['answer'] = cls.find('em').text\n",
    "if 'Triple Stumper' in ans:\n",
    "    f_j['is_stumper'] = 1\n",
    "else:\n",
    "    f_j['is_stumper'] = 0\n",
    "\n",
    "df_fj = pd.DataFrame([f_j])"
   ]
  },
  {
   "cell_type": "markdown",
   "id": "35fd44b0",
   "metadata": {},
   "source": [
    "### Combine Dataframes"
   ]
  },
  {
   "cell_type": "code",
   "execution_count": null,
   "id": "2e1bf0f3",
   "metadata": {},
   "outputs": [],
   "source": [
    "df_js = pd.concat([df_j_qs, df_dj_qs]).reset_index()"
   ]
  },
  {
   "cell_type": "code",
   "execution_count": null,
   "id": "abfd4b05",
   "metadata": {},
   "outputs": [],
   "source": [
    "df_game = df_js.merge(df_dd, on='q_index').merge(df_ans, on = 'q_index').drop(columns=['index','q_index'])\n",
    "df_game = pd.concat([df_game,df_fj]).reset_index()\n",
    "df_game"
   ]
  },
  {
   "cell_type": "markdown",
   "id": "4cc9277a",
   "metadata": {},
   "source": [
    "### Add Level (Difficulty)"
   ]
  },
  {
   "cell_type": "code",
   "execution_count": null,
   "id": "2048844e",
   "metadata": {},
   "outputs": [],
   "source": [
    "df_game['level'] =  np.where(df_game['is_DD'] == 1, 4, \\\n",
    "                    np.where(df_game['is_stumper'] == 1, 5, \\\n",
    "                    np.where(df_game['round'] == 'Final Jeopardy', 6, \\\n",
    "                    np.where((df_game['value'] == '200') | (df_game['value'] == '400'), 1, \\\n",
    "                    np.where((df_game['value'] == '600') | (df_game['value'] == '800') | (df_game['value'] == '1200'), 2, \\\n",
    "                    np.where((df_game['value'] == '1000') | (df_game['value'] == '1600') | (df_game['value'] == '2000'), 3, 'X''X')))))) "
   ]
  },
  {
   "cell_type": "code",
   "execution_count": null,
   "id": "d12ea772",
   "metadata": {},
   "outputs": [],
   "source": [
    "df_game.to_csv('watson_g1_j_round.csv')"
   ]
  },
  {
   "cell_type": "markdown",
   "id": "371d619b",
   "metadata": {},
   "source": [
    "---------"
   ]
  },
  {
   "cell_type": "markdown",
   "id": "ec2b9bef",
   "metadata": {},
   "source": [
    "# Functions"
   ]
  },
  {
   "cell_type": "code",
   "execution_count": null,
   "id": "d69102a3",
   "metadata": {},
   "outputs": [],
   "source": [
    "import acquire"
   ]
  },
  {
   "cell_type": "code",
   "execution_count": null,
   "id": "68cc16db",
   "metadata": {},
   "outputs": [],
   "source": [
    "test_url = 'https://j-archive.com/showgame.php?game_id=6833'"
   ]
  },
  {
   "cell_type": "markdown",
   "id": "55f5e736",
   "metadata": {},
   "source": [
    "#### Testing Daily Doubles"
   ]
  },
  {
   "cell_type": "code",
   "execution_count": null,
   "id": "8db519da",
   "metadata": {},
   "outputs": [],
   "source": [
    "df_dd = acquire.is_dd(test_url)\n",
    "df_dd"
   ]
  },
  {
   "cell_type": "markdown",
   "id": "c305ad2d",
   "metadata": {},
   "source": [
    "*Can add error finders and messangers in here in the future, using things like ensuring DD value count = 3.*"
   ]
  },
  {
   "cell_type": "markdown",
   "id": "2cc026cd",
   "metadata": {},
   "source": [
    "#### Testing Answers and Triple Stumper Detector"
   ]
  },
  {
   "cell_type": "code",
   "execution_count": null,
   "id": "44307ee6",
   "metadata": {},
   "outputs": [],
   "source": [
    "df_ans = acquire.answers(test_url)\n",
    "df_ans"
   ]
  },
  {
   "cell_type": "markdown",
   "id": "f2e0b893",
   "metadata": {},
   "source": [
    "#### Jeopardy Questions"
   ]
  },
  {
   "cell_type": "code",
   "execution_count": null,
   "id": "051d2d75",
   "metadata": {
    "scrolled": true
   },
   "outputs": [],
   "source": [
    "df_j_qs = acquire.j_qs(test_url)\n",
    "df_j_qs"
   ]
  },
  {
   "cell_type": "markdown",
   "id": "9b9031ea",
   "metadata": {},
   "source": [
    "#### Double Jeopardy Questions"
   ]
  },
  {
   "cell_type": "code",
   "execution_count": null,
   "id": "0834f234",
   "metadata": {},
   "outputs": [],
   "source": [
    "df_dj_qs = acquire.dj_qs(test_url)\n",
    "df_dj_qs"
   ]
  },
  {
   "cell_type": "markdown",
   "id": "fa67abee",
   "metadata": {},
   "source": [
    "#### Final Jeopardy"
   ]
  },
  {
   "cell_type": "code",
   "execution_count": null,
   "id": "93b0b7e9",
   "metadata": {},
   "outputs": [],
   "source": [
    "df_fj = acquire.fj(test_url)\n",
    "df_fj"
   ]
  },
  {
   "cell_type": "markdown",
   "id": "4240b833",
   "metadata": {},
   "source": [
    "#### Show Dataframe"
   ]
  },
  {
   "cell_type": "code",
   "execution_count": null,
   "id": "dfb1762e",
   "metadata": {},
   "outputs": [],
   "source": [
    "df_game = acquire.show_dataframe(df_dd, df_ans, df_j_qs, df_dj_qs, df_fj)\n",
    "df_game"
   ]
  },
  {
   "cell_type": "markdown",
   "id": "85540153",
   "metadata": {},
   "source": [
    "#### Add Level"
   ]
  },
  {
   "cell_type": "code",
   "execution_count": null,
   "id": "d4dde38f",
   "metadata": {},
   "outputs": [],
   "source": [
    "df_game = acquire.add_level(df_game)\n",
    "df_game"
   ]
  },
  {
   "cell_type": "code",
   "execution_count": null,
   "id": "426fdfe1",
   "metadata": {},
   "outputs": [],
   "source": [
    "df_game.info()"
   ]
  },
  {
   "cell_type": "markdown",
   "id": "29346627",
   "metadata": {},
   "source": [
    "#### Altogether Now"
   ]
  },
  {
   "cell_type": "code",
   "execution_count": null,
   "id": "729abab6",
   "metadata": {},
   "outputs": [],
   "source": [
    "df_game2 = acquire.acquire_show(test_url)\n",
    "df_game2.to_csv('show_8248.csv')"
   ]
  },
  {
   "cell_type": "code",
   "execution_count": null,
   "id": "13380ecf",
   "metadata": {},
   "outputs": [],
   "source": [
    "output = acquire.acquire_shows('showgame.php?game_id=7407')"
   ]
  },
  {
   "cell_type": "code",
   "execution_count": null,
   "id": "4519189b",
   "metadata": {},
   "outputs": [],
   "source": [
    "output.sample(25)"
   ]
  },
  {
   "cell_type": "code",
   "execution_count": null,
   "id": "4646922d",
   "metadata": {},
   "outputs": [],
   "source": [
    "df = pd.read_csv('jeopardy_games.csv')"
   ]
  },
  {
   "cell_type": "code",
   "execution_count": null,
   "id": "817f9bb0",
   "metadata": {},
   "outputs": [],
   "source": [
    "df"
   ]
  },
  {
   "cell_type": "code",
   "execution_count": null,
   "id": "6d9d1629",
   "metadata": {},
   "outputs": [],
   "source": [
    "dataframe_list = ['a','b','c']\n",
    "path = 'cached_games/'\n",
    "new_list = [f'{path}{n}.csv' for n in dataframe_list]"
   ]
  },
  {
   "cell_type": "code",
   "execution_count": null,
   "id": "16f12523",
   "metadata": {},
   "outputs": [],
   "source": [
    "from acquire import merge_dataframes"
   ]
  },
  {
   "cell_type": "code",
   "execution_count": null,
   "id": "3ccd794e",
   "metadata": {},
   "outputs": [],
   "source": [
    "df_list = ['a','b','c','d','e','f','g','h','i','j','k']"
   ]
  },
  {
   "cell_type": "code",
   "execution_count": null,
   "id": "b2d0152d",
   "metadata": {},
   "outputs": [],
   "source": [
    "df = merge_dataframes(df_list)"
   ]
  },
  {
   "cell_type": "code",
   "execution_count": null,
   "id": "8e3b0f58",
   "metadata": {},
   "outputs": [],
   "source": [
    "df.info()"
   ]
  },
  {
   "cell_type": "code",
   "execution_count": null,
   "id": "59049689",
   "metadata": {},
   "outputs": [],
   "source": [
    "df_values = df[df['value'] != 'FJ']"
   ]
  },
  {
   "cell_type": "code",
   "execution_count": null,
   "id": "7accef10",
   "metadata": {},
   "outputs": [],
   "source": [
    "df_values"
   ]
  },
  {
   "cell_type": "code",
   "execution_count": null,
   "id": "bce3616b",
   "metadata": {},
   "outputs": [],
   "source": [
    "df_values = df_values.astype({'value':'int'})"
   ]
  },
  {
   "cell_type": "code",
   "execution_count": null,
   "id": "ba2330ec",
   "metadata": {},
   "outputs": [],
   "source": [
    "df_values = df_values.drop(columns = 'index')"
   ]
  },
  {
   "cell_type": "code",
   "execution_count": null,
   "id": "adef409c",
   "metadata": {},
   "outputs": [],
   "source": [
    "df_values"
   ]
  },
  {
   "cell_type": "code",
   "execution_count": null,
   "id": "55652d5b",
   "metadata": {},
   "outputs": [],
   "source": [
    "df_dd = df_values[df_values.is_DD == 1]"
   ]
  },
  {
   "cell_type": "code",
   "execution_count": null,
   "id": "c88db122",
   "metadata": {},
   "outputs": [],
   "source": [
    "df_dd_j = df_dd[df_dd['round'] == 'Jeopardy']\n",
    "df_dd_dj = df_dd[df_dd['round'] == 'Double Jeopardy']"
   ]
  },
  {
   "cell_type": "code",
   "execution_count": null,
   "id": "04f76c95",
   "metadata": {},
   "outputs": [],
   "source": [
    "df_dd_j['value'].value_counts(normalize = True)"
   ]
  },
  {
   "cell_type": "code",
   "execution_count": null,
   "id": "7fe561ae",
   "metadata": {},
   "outputs": [],
   "source": [
    "df_dd_dj['value'].value_counts(normalize = True)"
   ]
  },
  {
   "cell_type": "markdown",
   "id": "29412c84",
   "metadata": {},
   "source": [
    "Cute observation - if the answer is 'Null' - python interprets it as a NaN!"
   ]
  },
  {
   "cell_type": "code",
   "execution_count": null,
   "id": "e0fd3c2f",
   "metadata": {},
   "outputs": [],
   "source": [
    "df = df.fillna(f'Null')"
   ]
  },
  {
   "cell_type": "code",
   "execution_count": null,
   "id": "9c08191a",
   "metadata": {},
   "outputs": [],
   "source": [
    "df.answer.value_counts().nlargest(50)"
   ]
  },
  {
   "cell_type": "code",
   "execution_count": null,
   "id": "36956033",
   "metadata": {},
   "outputs": [],
   "source": [
    "df[df.answer.duplicated(keep=False)]"
   ]
  },
  {
   "cell_type": "markdown",
   "id": "d549bbc7",
   "metadata": {},
   "source": [
    "Numer of final jeopardies"
   ]
  },
  {
   "cell_type": "code",
   "execution_count": null,
   "id": "1fa68678",
   "metadata": {},
   "outputs": [],
   "source": [
    "fj = df[df['round'] == 'Final Jeopardy']"
   ]
  },
  {
   "cell_type": "code",
   "execution_count": null,
   "id": "6c72c992",
   "metadata": {},
   "outputs": [],
   "source": [
    "fj.answer.value_counts().nlargest(50)"
   ]
  },
  {
   "cell_type": "code",
   "execution_count": null,
   "id": "9a584821",
   "metadata": {},
   "outputs": [],
   "source": [
    "stumpers = df[df.is_stumper == True]"
   ]
  },
  {
   "cell_type": "code",
   "execution_count": null,
   "id": "c814a13f",
   "metadata": {},
   "outputs": [],
   "source": [
    "stumpers['value'].value_counts().index"
   ]
  },
  {
   "cell_type": "code",
   "execution_count": null,
   "id": "436713e9",
   "metadata": {},
   "outputs": [],
   "source": [
    "plt.figure(figsize = (24,24))\n",
    "sns.distplot(stumpers['value'])"
   ]
  },
  {
   "cell_type": "code",
   "execution_count": null,
   "id": "1a6f4334",
   "metadata": {},
   "outputs": [],
   "source": [
    "pd.set_option('display.max_colwidth', None)"
   ]
  },
  {
   "cell_type": "code",
   "execution_count": null,
   "id": "58fac916",
   "metadata": {},
   "outputs": [],
   "source": [
    "[n for n in final_jeopardy.clue if 'Dutch' in n]"
   ]
  },
  {
   "cell_type": "code",
   "execution_count": null,
   "id": "25b99d12",
   "metadata": {},
   "outputs": [],
   "source": []
  },
  {
   "cell_type": "code",
   "execution_count": null,
   "id": "8856df8a",
   "metadata": {},
   "outputs": [],
   "source": []
  },
  {
   "cell_type": "markdown",
   "id": "e25cf0fa",
   "metadata": {},
   "source": [
    "get rid of all seasons pre- "
   ]
  }
 ],
 "metadata": {
  "kernelspec": {
   "display_name": "Python 3 (ipykernel)",
   "language": "python",
   "name": "python3"
  },
  "language_info": {
   "codemirror_mode": {
    "name": "ipython",
    "version": 3
   },
   "file_extension": ".py",
   "mimetype": "text/x-python",
   "name": "python",
   "nbconvert_exporter": "python",
   "pygments_lexer": "ipython3",
   "version": "3.9.7"
  }
 },
 "nbformat": 4,
 "nbformat_minor": 5
}
