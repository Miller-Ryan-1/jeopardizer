{
 "cells": [
  {
   "cell_type": "markdown",
   "id": "fff741f7",
   "metadata": {},
   "source": [
    "### Import Libraries"
   ]
  },
  {
   "cell_type": "code",
   "execution_count": 1,
   "id": "c3bf3d16",
   "metadata": {},
   "outputs": [],
   "source": [
    "import pandas as pd\n",
    "import numpy as np\n",
    "import requests\n",
    "from bs4 import BeautifulSoup as bs\n",
    "import re"
   ]
  },
  {
   "cell_type": "markdown",
   "id": "a462c5e4",
   "metadata": {},
   "source": [
    "### Create Base Soup Object - Single Page Run"
   ]
  },
  {
   "cell_type": "code",
   "execution_count": 2,
   "id": "89b7f718",
   "metadata": {},
   "outputs": [],
   "source": [
    "r = requests.get('https://j-archive.com/showgame.php?game_id=7404')\n",
    "soup = bs(r.content )"
   ]
  },
  {
   "cell_type": "code",
   "execution_count": 3,
   "id": "7cba02d2",
   "metadata": {},
   "outputs": [],
   "source": [
    "j_category_list = soup.find('div', attrs = {'id':'jeopardy_round'}).find_all('td', attrs = {'class':'category_name'})\n",
    "j_categories = []\n",
    "for category in j_category_list:\n",
    "    j_categories.append(category.get_text())"
   ]
  },
  {
   "cell_type": "markdown",
   "id": "524ff6cc",
   "metadata": {},
   "source": [
    "### Get Show Info"
   ]
  },
  {
   "cell_type": "code",
   "execution_count": 4,
   "id": "99344d5e",
   "metadata": {},
   "outputs": [],
   "source": [
    "show_info = soup.find('div', attrs = {'id':'game_title'}).text"
   ]
  },
  {
   "cell_type": "code",
   "execution_count": 5,
   "id": "39c54060",
   "metadata": {},
   "outputs": [],
   "source": [
    "show_num = re.findall(r'\\d+', show_info)[0]\n",
    "show_yr = re.findall(r'\\d+', show_info)[2][2:]"
   ]
  },
  {
   "cell_type": "markdown",
   "id": "791f9ab8",
   "metadata": {},
   "source": [
    "### Identify Daily Doubles"
   ]
  },
  {
   "cell_type": "code",
   "execution_count": 6,
   "id": "0c4c29e8",
   "metadata": {},
   "outputs": [],
   "source": [
    "indexer = 1\n",
    "dd_list = []\n",
    "for thing in soup.find_all('td', class_ = 'clue'):\n",
    "    row = {}\n",
    "    row['q_index'] = indexer\n",
    "    indexer += 1\n",
    "    if thing.find('td', class_ = 'clue_value_daily_double'):\n",
    "        row['is_DD'] = 1\n",
    "    else:\n",
    "        row['is_DD'] = 0\n",
    "    dd_list.append(row)\n",
    "df_dd = pd.DataFrame(dd_list)"
   ]
  },
  {
   "cell_type": "markdown",
   "id": "06b15cdd",
   "metadata": {},
   "source": [
    "### Identify Answers and Triple Stumpers"
   ]
  },
  {
   "cell_type": "code",
   "execution_count": 7,
   "id": "c2093087",
   "metadata": {
    "scrolled": false
   },
   "outputs": [],
   "source": [
    "answers = []\n",
    "counter = 1\n",
    "\n",
    "for clue in soup.find_all('td', class_ = 'clue'):\n",
    "    answer = {}\n",
    "    if counter < 61:\n",
    "        answer['q_index'] = counter\n",
    "        ans = clue.find('div', onmouseover = True).get('onmouseover')\n",
    "        cls = bs(ans)\n",
    "        answer['answer'] = cls.find('em').text\n",
    "        if 'Triple Stumper' in ans:\n",
    "            answer['is_stumper'] = 1\n",
    "        else:\n",
    "            answer['is_stumper'] = 0\n",
    "        answers.append(answer)\n",
    "        counter += 1\n",
    "df_ans = pd.DataFrame(answers)"
   ]
  },
  {
   "cell_type": "markdown",
   "id": "da22e187",
   "metadata": {},
   "source": [
    "### Create Question List"
   ]
  },
  {
   "cell_type": "code",
   "execution_count": 8,
   "id": "0fbf0403",
   "metadata": {},
   "outputs": [],
   "source": [
    "j_value = ['200','400','600','800','1000'] #should these be ints?\n",
    "dj_value = ['400','800','1200','1600','2000'] #SHould these be ints?"
   ]
  },
  {
   "cell_type": "code",
   "execution_count": 9,
   "id": "bed48879",
   "metadata": {},
   "outputs": [],
   "source": [
    "# Jeopardy Categories\n",
    "j_category_list = soup.find('div', attrs = {'id':'jeopardy_round'}).find_all('td', attrs = {'class':'category_name'})\n",
    "j_categories = []\n",
    "for category in j_category_list:\n",
    "    j_categories.append(category.get_text())"
   ]
  },
  {
   "cell_type": "code",
   "execution_count": 10,
   "id": "b8c65a79",
   "metadata": {},
   "outputs": [],
   "source": [
    "# Jeopardy:\n",
    "questions = []\n",
    "\n",
    "for i in range(6):\n",
    "    for j in range(5):\n",
    "        question = {}\n",
    "        \n",
    "        question['show_num'] = show_num\n",
    "        question['show_yr'] = show_yr\n",
    "        \n",
    "        question['round'] = 'Jeopardy'\n",
    "        \n",
    "        question['category'] = j_categories[i]\n",
    "         \n",
    "        question['value'] = j_value[j]\n",
    "        \n",
    "        clue = f'clue_J_{i+1}_{j+1}' \n",
    "        question['clue'] = soup.find('td', attrs = {'id':clue}).text\n",
    "        \n",
    "        question['q_index'] = (i + 1) + (6* j)\n",
    "        \n",
    "        questions.append(question)\n",
    "df_j_qs = pd.DataFrame(questions)"
   ]
  },
  {
   "cell_type": "code",
   "execution_count": 11,
   "id": "ca95d827",
   "metadata": {},
   "outputs": [],
   "source": [
    "# Double Jeopardy Categories\n",
    "dj_category_list = soup.find('div', attrs = {'id':'double_jeopardy_round'}).find_all('td', attrs = {'class':'category_name'})\n",
    "dj_categories = []\n",
    "for category in dj_category_list:\n",
    "    dj_categories.append(category.get_text())"
   ]
  },
  {
   "cell_type": "code",
   "execution_count": 20,
   "id": "33d6259f",
   "metadata": {},
   "outputs": [],
   "source": [
    "# Double Jeopardy\n",
    "questions = []\n",
    "\n",
    "for i in range(6):\n",
    "    for j in range(5):\n",
    "        question = {}\n",
    "        \n",
    "        question['show_num'] = show_num\n",
    "        question['show_yr'] = show_yr\n",
    "        \n",
    "        question['round'] = 'Double Jeopardy'\n",
    "        \n",
    "        question['category'] = dj_categories[i]\n",
    "         \n",
    "        question['value'] = dj_value[j]\n",
    "        \n",
    "        clue = f'clue_DJ_{i+1}_{j+1}' \n",
    "        question['clue'] = soup.find('td', attrs = {'id':clue}).text\n",
    "        \n",
    "        question['q_index'] = 30 + (i + 1) + (6* j)\n",
    "        \n",
    "        questions.append(question)\n",
    "df_dj_qs = pd.DataFrame(questions)"
   ]
  },
  {
   "cell_type": "code",
   "execution_count": 17,
   "id": "ae2784be",
   "metadata": {},
   "outputs": [],
   "source": [
    "# Final Jeopardy\n",
    "\n",
    "#q_index is unnecessary as this final jeopardy will be assigned after other dfs are combined\n",
    "\n",
    "fj = soup.find('table', class_ = 'final_round')\n",
    "\n",
    "f_j = {}\n",
    "f_j['show_num'] = show_num\n",
    "f_j['show_yr'] = show_yr\n",
    "f_j['round'] = 'Final Jeopardy'\n",
    "f_j['value'] = 'FJ'\n",
    "f_j['is_DD'] = 0\n",
    "\n",
    "f_j['category'] = fj.find('td', class_ = 'category_name').text\n",
    "\n",
    "f_j['clue'] = fj.find('td', attrs = {'id':'clue_FJ'}).text\n",
    "\n",
    "ans = fj.find('div', onmouseover = True).get('onmouseover')\n",
    "cls = bs(ans)\n",
    "f_j['answer'] = cls.find('em').text\n",
    "if 'Triple Stumper' in ans:\n",
    "    f_j['is_stumper'] = 1\n",
    "else:\n",
    "    f_j['is_stumper'] = 0\n",
    "\n",
    "df_fj = pd.DataFrame([f_j])"
   ]
  },
  {
   "cell_type": "markdown",
   "id": "ecc413ea",
   "metadata": {},
   "source": [
    "### Combine Dataframes"
   ]
  },
  {
   "cell_type": "code",
   "execution_count": 24,
   "id": "22e2bf54",
   "metadata": {},
   "outputs": [],
   "source": [
    "df_js = pd.concat([df_j_qs, df_dj_qs]).reset_index()"
   ]
  },
  {
   "cell_type": "code",
   "execution_count": 34,
   "id": "d761e3bb",
   "metadata": {},
   "outputs": [
    {
     "data": {
      "text/html": [
       "<div>\n",
       "<style scoped>\n",
       "    .dataframe tbody tr th:only-of-type {\n",
       "        vertical-align: middle;\n",
       "    }\n",
       "\n",
       "    .dataframe tbody tr th {\n",
       "        vertical-align: top;\n",
       "    }\n",
       "\n",
       "    .dataframe thead th {\n",
       "        text-align: right;\n",
       "    }\n",
       "</style>\n",
       "<table border=\"1\" class=\"dataframe\">\n",
       "  <thead>\n",
       "    <tr style=\"text-align: right;\">\n",
       "      <th></th>\n",
       "      <th>index</th>\n",
       "      <th>show_num</th>\n",
       "      <th>show_yr</th>\n",
       "      <th>round</th>\n",
       "      <th>category</th>\n",
       "      <th>value</th>\n",
       "      <th>clue</th>\n",
       "      <th>is_DD</th>\n",
       "      <th>answer</th>\n",
       "      <th>is_stumper</th>\n",
       "    </tr>\n",
       "  </thead>\n",
       "  <tbody>\n",
       "    <tr>\n",
       "      <th>0</th>\n",
       "      <td>0</td>\n",
       "      <td>8677</td>\n",
       "      <td>22</td>\n",
       "      <td>Jeopardy</td>\n",
       "      <td>IT HAPPENED IN JULY</td>\n",
       "      <td>200</td>\n",
       "      <td>On July 20, 1969 he famously declared:\"That's ...</td>\n",
       "      <td>0</td>\n",
       "      <td>Armstrong</td>\n",
       "      <td>0</td>\n",
       "    </tr>\n",
       "    <tr>\n",
       "      <th>1</th>\n",
       "      <td>1</td>\n",
       "      <td>8677</td>\n",
       "      <td>22</td>\n",
       "      <td>Jeopardy</td>\n",
       "      <td>IT HAPPENED IN JULY</td>\n",
       "      <td>400</td>\n",
       "      <td>Killed while making bread on July 3, 1863, Jen...</td>\n",
       "      <td>0</td>\n",
       "      <td>(the Battle of) Gettysburg</td>\n",
       "      <td>0</td>\n",
       "    </tr>\n",
       "    <tr>\n",
       "      <th>2</th>\n",
       "      <td>2</td>\n",
       "      <td>8677</td>\n",
       "      <td>22</td>\n",
       "      <td>Jeopardy</td>\n",
       "      <td>IT HAPPENED IN JULY</td>\n",
       "      <td>600</td>\n",
       "      <td>Escaping from prison days before he was to be ...</td>\n",
       "      <td>0</td>\n",
       "      <td>Billy the Kid</td>\n",
       "      <td>0</td>\n",
       "    </tr>\n",
       "    <tr>\n",
       "      <th>3</th>\n",
       "      <td>3</td>\n",
       "      <td>8677</td>\n",
       "      <td>22</td>\n",
       "      <td>Jeopardy</td>\n",
       "      <td>IT HAPPENED IN JULY</td>\n",
       "      <td>800</td>\n",
       "      <td>On July 17, 2020 America lost 2 civil rights i...</td>\n",
       "      <td>0</td>\n",
       "      <td>John Lewis</td>\n",
       "      <td>0</td>\n",
       "    </tr>\n",
       "    <tr>\n",
       "      <th>4</th>\n",
       "      <td>4</td>\n",
       "      <td>8677</td>\n",
       "      <td>22</td>\n",
       "      <td>Jeopardy</td>\n",
       "      <td>IT HAPPENED IN JULY</td>\n",
       "      <td>1000</td>\n",
       "      <td>The NHS for short, it got started July 5, 1948...</td>\n",
       "      <td>0</td>\n",
       "      <td>the National Health Service</td>\n",
       "      <td>0</td>\n",
       "    </tr>\n",
       "    <tr>\n",
       "      <th>...</th>\n",
       "      <td>...</td>\n",
       "      <td>...</td>\n",
       "      <td>...</td>\n",
       "      <td>...</td>\n",
       "      <td>...</td>\n",
       "      <td>...</td>\n",
       "      <td>...</td>\n",
       "      <td>...</td>\n",
       "      <td>...</td>\n",
       "      <td>...</td>\n",
       "    </tr>\n",
       "    <tr>\n",
       "      <th>56</th>\n",
       "      <td>56</td>\n",
       "      <td>8677</td>\n",
       "      <td>22</td>\n",
       "      <td>Double Jeopardy</td>\n",
       "      <td>TOOL WORDS &amp; PHRASES</td>\n",
       "      <td>800</td>\n",
       "      <td>Familiar with the procedure? Then you know thi...</td>\n",
       "      <td>0</td>\n",
       "      <td>a drill</td>\n",
       "      <td>0</td>\n",
       "    </tr>\n",
       "    <tr>\n",
       "      <th>57</th>\n",
       "      <td>57</td>\n",
       "      <td>8677</td>\n",
       "      <td>22</td>\n",
       "      <td>Double Jeopardy</td>\n",
       "      <td>TOOL WORDS &amp; PHRASES</td>\n",
       "      <td>1200</td>\n",
       "      <td>It can mean both to sculpt &amp; to swindle someone</td>\n",
       "      <td>0</td>\n",
       "      <td>chisel</td>\n",
       "      <td>1</td>\n",
       "    </tr>\n",
       "    <tr>\n",
       "      <th>58</th>\n",
       "      <td>58</td>\n",
       "      <td>8677</td>\n",
       "      <td>22</td>\n",
       "      <td>Double Jeopardy</td>\n",
       "      <td>TOOL WORDS &amp; PHRASES</td>\n",
       "      <td>1600</td>\n",
       "      <td>To twist, or slang for a prison guard</td>\n",
       "      <td>0</td>\n",
       "      <td>a screw</td>\n",
       "      <td>1</td>\n",
       "    </tr>\n",
       "    <tr>\n",
       "      <th>59</th>\n",
       "      <td>59</td>\n",
       "      <td>8677</td>\n",
       "      <td>22</td>\n",
       "      <td>Double Jeopardy</td>\n",
       "      <td>TOOL WORDS &amp; PHRASES</td>\n",
       "      <td>2000</td>\n",
       "      <td>Alliterative phrase meaning to drive a fact in...</td>\n",
       "      <td>0</td>\n",
       "      <td>to hammer home</td>\n",
       "      <td>0</td>\n",
       "    </tr>\n",
       "    <tr>\n",
       "      <th>60</th>\n",
       "      <td>0</td>\n",
       "      <td>8677</td>\n",
       "      <td>22</td>\n",
       "      <td>Final Jeopardy</td>\n",
       "      <td>NATIONAL HISTORIC SITES</td>\n",
       "      <td>FJ</td>\n",
       "      <td>Less than 100 yards north of the J. Edgar Hoov...</td>\n",
       "      <td>0</td>\n",
       "      <td>Ford\\'s Theater</td>\n",
       "      <td>0</td>\n",
       "    </tr>\n",
       "  </tbody>\n",
       "</table>\n",
       "<p>61 rows × 10 columns</p>\n",
       "</div>"
      ],
      "text/plain": [
       "    index show_num show_yr            round                 category value  \\\n",
       "0       0     8677      22         Jeopardy      IT HAPPENED IN JULY   200   \n",
       "1       1     8677      22         Jeopardy      IT HAPPENED IN JULY   400   \n",
       "2       2     8677      22         Jeopardy      IT HAPPENED IN JULY   600   \n",
       "3       3     8677      22         Jeopardy      IT HAPPENED IN JULY   800   \n",
       "4       4     8677      22         Jeopardy      IT HAPPENED IN JULY  1000   \n",
       "..    ...      ...     ...              ...                      ...   ...   \n",
       "56     56     8677      22  Double Jeopardy     TOOL WORDS & PHRASES   800   \n",
       "57     57     8677      22  Double Jeopardy     TOOL WORDS & PHRASES  1200   \n",
       "58     58     8677      22  Double Jeopardy     TOOL WORDS & PHRASES  1600   \n",
       "59     59     8677      22  Double Jeopardy     TOOL WORDS & PHRASES  2000   \n",
       "60      0     8677      22   Final Jeopardy  NATIONAL HISTORIC SITES    FJ   \n",
       "\n",
       "                                                 clue  is_DD  \\\n",
       "0   On July 20, 1969 he famously declared:\"That's ...      0   \n",
       "1   Killed while making bread on July 3, 1863, Jen...      0   \n",
       "2   Escaping from prison days before he was to be ...      0   \n",
       "3   On July 17, 2020 America lost 2 civil rights i...      0   \n",
       "4   The NHS for short, it got started July 5, 1948...      0   \n",
       "..                                                ...    ...   \n",
       "56  Familiar with the procedure? Then you know thi...      0   \n",
       "57    It can mean both to sculpt & to swindle someone      0   \n",
       "58              To twist, or slang for a prison guard      0   \n",
       "59  Alliterative phrase meaning to drive a fact in...      0   \n",
       "60  Less than 100 yards north of the J. Edgar Hoov...      0   \n",
       "\n",
       "                         answer  is_stumper  \n",
       "0                     Armstrong           0  \n",
       "1    (the Battle of) Gettysburg           0  \n",
       "2                 Billy the Kid           0  \n",
       "3                    John Lewis           0  \n",
       "4   the National Health Service           0  \n",
       "..                          ...         ...  \n",
       "56                      a drill           0  \n",
       "57                       chisel           1  \n",
       "58                      a screw           1  \n",
       "59               to hammer home           0  \n",
       "60              Ford\\'s Theater           0  \n",
       "\n",
       "[61 rows x 10 columns]"
      ]
     },
     "execution_count": 34,
     "metadata": {},
     "output_type": "execute_result"
    }
   ],
   "source": [
    "df_game = df_js.merge(df_dd, on='q_index').merge(df_ans, on = 'q_index').drop(columns=['index','q_index'])\n",
    "df_game = pd.concat([df_game,df_fj]).reset_index()\n",
    "df_game"
   ]
  },
  {
   "cell_type": "markdown",
   "id": "b5c23ae9",
   "metadata": {},
   "source": [
    "---------"
   ]
  },
  {
   "cell_type": "markdown",
   "id": "2bda6e8f",
   "metadata": {},
   "source": [
    "# Functions"
   ]
  },
  {
   "cell_type": "code",
   "execution_count": null,
   "id": "a303d5fa",
   "metadata": {},
   "outputs": [],
   "source": [
    "import acquire"
   ]
  }
 ],
 "metadata": {
  "kernelspec": {
   "display_name": "Python 3 (ipykernel)",
   "language": "python",
   "name": "python3"
  },
  "language_info": {
   "codemirror_mode": {
    "name": "ipython",
    "version": 3
   },
   "file_extension": ".py",
   "mimetype": "text/x-python",
   "name": "python",
   "nbconvert_exporter": "python",
   "pygments_lexer": "ipython3",
   "version": "3.9.7"
  }
 },
 "nbformat": 4,
 "nbformat_minor": 5
}
